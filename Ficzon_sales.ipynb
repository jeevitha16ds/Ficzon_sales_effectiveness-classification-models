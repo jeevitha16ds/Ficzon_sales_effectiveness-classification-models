{
  "nbformat": 4,
  "nbformat_minor": 0,
  "metadata": {
    "colab": {
      "name": "Ficzon_sales.ipynb",
      "provenance": [],
      "collapsed_sections": [],
      "include_colab_link": true
    },
    "kernelspec": {
      "name": "python3",
      "display_name": "Python 3"
    },
    "language_info": {
      "name": "python"
    }
  },
  "cells": [
    {
      "cell_type": "markdown",
      "metadata": {
        "id": "view-in-github",
        "colab_type": "text"
      },
      "source": [
        "<a href=\"https://colab.research.google.com/github/jeevitha16ds/jeevitha16ds/blob/main/Ficzon_sales.ipynb\" target=\"_parent\"><img src=\"https://colab.research.google.com/assets/colab-badge.svg\" alt=\"Open In Colab\"/></a>"
      ]
    },
    {
      "cell_type": "markdown",
      "metadata": {
        "id": "GwZGEh6YHU_d"
      },
      "source": [
        "#**Project Goal**\n",
        "1. **Extracted data from the given database using SQL techniques**.\n",
        "2. **Data exploration method is used to share insights related to Sales effectiveness**.\n",
        "3. **Various machine learning algorithms are used to predict the Lead category(High potential , Low potential)** ."
      ]
    },
    {
      "cell_type": "markdown",
      "metadata": {
        "id": "0LxHv6hNHVCo"
      },
      "source": [
        "# **Database details**\n",
        "* **DB Name:project_sales** \n",
        "* **Table Name:data**\n",
        "* **Host:19.136.157.135**\n",
        "* **Port:3306**\n",
        "* **Username:dm_team2**\n",
        "* **Password:DM!$Team&27@9!20!**"
      ]
    },
    {
      "cell_type": "markdown",
      "metadata": {
        "id": "74d_EwKTHVRK"
      },
      "source": [
        "# **APPROACH**\n",
        " * **Importing basic libraries**\n",
        " * **Reading the dataset from the database using SQL**\n",
        " * **Data preprocessing**\n",
        " * **Exploratory data Analysis(EDA)**\n",
        " * **Label encoder is used to encode the categorical variables**\n",
        " * **Minmax scaler is used to scale the data**\n",
        " * **Various classification algorithms are used**\n",
        " * **Model is evaluated using different classification metrics like accuracy,recall,confusion matrix and f1_score**\n",
        " * **Hyperparameter tuning is done to increase the accuracy**"
      ]
    },
    {
      "cell_type": "markdown",
      "metadata": {
        "id": "hfwQUg2sHu0T"
      },
      "source": [
        "##**SQL is used to extract data from database**"
      ]
    },
    {
      "cell_type": "code",
      "metadata": {
        "colab": {
          "base_uri": "https://localhost:8080/"
        },
        "id": "RuiTDCP_ZrwN",
        "outputId": "88cc0358-2cdb-41e7-ae24-d0600c5ee1ed"
      },
      "source": [
        "!pip install sqlalchemy"
      ],
      "execution_count": null,
      "outputs": [
        {
          "output_type": "stream",
          "text": [
            "Requirement already satisfied: sqlalchemy in /usr/local/lib/python3.7/dist-packages (1.4.7)\n",
            "Requirement already satisfied: greenlet!=0.4.17; python_version >= \"3\" in /usr/local/lib/python3.7/dist-packages (from sqlalchemy) (1.0.0)\n",
            "Requirement already satisfied: importlib-metadata; python_version < \"3.8\" in /usr/local/lib/python3.7/dist-packages (from sqlalchemy) (3.10.1)\n",
            "Requirement already satisfied: typing-extensions>=3.6.4; python_version < \"3.8\" in /usr/local/lib/python3.7/dist-packages (from importlib-metadata; python_version < \"3.8\"->sqlalchemy) (3.7.4.3)\n",
            "Requirement already satisfied: zipp>=0.5 in /usr/local/lib/python3.7/dist-packages (from importlib-metadata; python_version < \"3.8\"->sqlalchemy) (3.4.1)\n"
          ],
          "name": "stdout"
        }
      ]
    },
    {
      "cell_type": "code",
      "metadata": {
        "colab": {
          "base_uri": "https://localhost:8080/"
        },
        "id": "TOciygBpxEjA",
        "outputId": "cec9ac63-f78c-4480-d150-5b7aa80d7591"
      },
      "source": [
        "!pip install pymysql"
      ],
      "execution_count": null,
      "outputs": [
        {
          "output_type": "stream",
          "text": [
            "Collecting pymysql\n",
            "\u001b[?25l  Downloading https://files.pythonhosted.org/packages/4f/52/a115fe175028b058df353c5a3d5290b71514a83f67078a6482cff24d6137/PyMySQL-1.0.2-py3-none-any.whl (43kB)\n",
            "\r\u001b[K     |███████▌                        | 10kB 17.0MB/s eta 0:00:01\r\u001b[K     |███████████████                 | 20kB 23.1MB/s eta 0:00:01\r\u001b[K     |██████████████████████▍         | 30kB 14.1MB/s eta 0:00:01\r\u001b[K     |██████████████████████████████  | 40kB 9.6MB/s eta 0:00:01\r\u001b[K     |████████████████████████████████| 51kB 4.0MB/s \n",
            "\u001b[?25hInstalling collected packages: pymysql\n",
            "Successfully installed pymysql-1.0.2\n"
          ],
          "name": "stdout"
        }
      ]
    },
    {
      "cell_type": "code",
      "metadata": {
        "id": "JDvgzYOgxGew"
      },
      "source": [
        "from sqlalchemy import create_engine"
      ],
      "execution_count": null,
      "outputs": []
    },
    {
      "cell_type": "code",
      "metadata": {
        "id": "xXmLtWAuxJAY"
      },
      "source": [
        "import pandas as pd"
      ],
      "execution_count": null,
      "outputs": []
    },
    {
      "cell_type": "code",
      "metadata": {
        "id": "cg6ZnVDRxLZo"
      },
      "source": [
        "DB_name='project_sales'\n",
        "table_name='data'\n",
        "Host='18.136.157.135:3306'\n",
        "username='dm_team2'\n",
        "password='DM!$Team&27@9!20!'"
      ],
      "execution_count": null,
      "outputs": []
    },
    {
      "cell_type": "code",
      "metadata": {
        "id": "_zGLdstRxNyP"
      },
      "source": [
        "conn=create_engine('mysql+pymysql://'+username+':'+password+'@'+Host+'/'+DB_name)"
      ],
      "execution_count": null,
      "outputs": []
    },
    {
      "cell_type": "code",
      "metadata": {
        "colab": {
          "base_uri": "https://localhost:8080/"
        },
        "id": "FtrY56-hxP9L",
        "outputId": "ffedd095-957e-4cfb-b961-c7af0c1eb183"
      },
      "source": [
        "conn.table_names()"
      ],
      "execution_count": null,
      "outputs": [
        {
          "output_type": "stream",
          "text": [
            "/usr/local/lib/python3.7/dist-packages/ipykernel_launcher.py:1: SADeprecationWarning: The Engine.table_names() method is deprecated and will be removed in a future release.  Please refer to Inspector.get_table_names(). (deprecated since: 1.4)\n",
            "  \"\"\"Entry point for launching an IPython kernel.\n"
          ],
          "name": "stderr"
        },
        {
          "output_type": "execute_result",
          "data": {
            "text/plain": [
              "['data']"
            ]
          },
          "metadata": {
            "tags": []
          },
          "execution_count": 7
        }
      ]
    },
    {
      "cell_type": "code",
      "metadata": {
        "id": "-DpLQ7u143UN"
      },
      "source": [
        "query='select* from data'"
      ],
      "execution_count": null,
      "outputs": []
    },
    {
      "cell_type": "code",
      "metadata": {
        "id": "0948yq5745lG"
      },
      "source": [
        "data=pd.read_sql(query,conn)"
      ],
      "execution_count": null,
      "outputs": []
    },
    {
      "cell_type": "code",
      "metadata": {
        "colab": {
          "base_uri": "https://localhost:8080/"
        },
        "id": "QoI4ZE5147qW",
        "outputId": "b4a55349-38bc-4c74-cf00-0eb204696f6f"
      },
      "source": [
        "print(data.shape)"
      ],
      "execution_count": null,
      "outputs": [
        {
          "output_type": "stream",
          "text": [
            "(7422, 9)\n"
          ],
          "name": "stdout"
        }
      ]
    },
    {
      "cell_type": "code",
      "metadata": {
        "colab": {
          "base_uri": "https://localhost:8080/",
          "height": 195
        },
        "id": "shGlUBet4-MP",
        "outputId": "7939b8b5-a4ea-4730-b080-706f87e39a47"
      },
      "source": [
        "data.head()"
      ],
      "execution_count": null,
      "outputs": [
        {
          "output_type": "execute_result",
          "data": {
            "text/html": [
              "<div>\n",
              "<style scoped>\n",
              "    .dataframe tbody tr th:only-of-type {\n",
              "        vertical-align: middle;\n",
              "    }\n",
              "\n",
              "    .dataframe tbody tr th {\n",
              "        vertical-align: top;\n",
              "    }\n",
              "\n",
              "    .dataframe thead th {\n",
              "        text-align: right;\n",
              "    }\n",
              "</style>\n",
              "<table border=\"1\" class=\"dataframe\">\n",
              "  <thead>\n",
              "    <tr style=\"text-align: right;\">\n",
              "      <th></th>\n",
              "      <th>Created</th>\n",
              "      <th>Product_ID</th>\n",
              "      <th>Source</th>\n",
              "      <th>Mobile</th>\n",
              "      <th>EMAIL</th>\n",
              "      <th>Sales_Agent</th>\n",
              "      <th>Location</th>\n",
              "      <th>Delivery_Mode</th>\n",
              "      <th>Status</th>\n",
              "    </tr>\n",
              "  </thead>\n",
              "  <tbody>\n",
              "    <tr>\n",
              "      <th>0</th>\n",
              "      <td>14-11-2018 10:05</td>\n",
              "      <td></td>\n",
              "      <td>Website</td>\n",
              "      <td>984XXXXXXX</td>\n",
              "      <td>aXXXXXXX@gmail.com</td>\n",
              "      <td>Sales-Agent-11</td>\n",
              "      <td></td>\n",
              "      <td>Mode-5</td>\n",
              "      <td>Open</td>\n",
              "    </tr>\n",
              "    <tr>\n",
              "      <th>1</th>\n",
              "      <td>14-11-2018 09:22</td>\n",
              "      <td></td>\n",
              "      <td>Website</td>\n",
              "      <td>XXXXXXX</td>\n",
              "      <td>#VALUE!</td>\n",
              "      <td>Sales-Agent-10</td>\n",
              "      <td></td>\n",
              "      <td>Mode-5</td>\n",
              "      <td>Open</td>\n",
              "    </tr>\n",
              "    <tr>\n",
              "      <th>2</th>\n",
              "      <td>14-11-2018 09:21</td>\n",
              "      <td></td>\n",
              "      <td>Website</td>\n",
              "      <td>XXXXXXX</td>\n",
              "      <td>dXXXXXXX@yahoo.com</td>\n",
              "      <td>Sales-Agent-10</td>\n",
              "      <td></td>\n",
              "      <td>Mode-5</td>\n",
              "      <td>Open</td>\n",
              "    </tr>\n",
              "    <tr>\n",
              "      <th>3</th>\n",
              "      <td>14-11-2018 08:46</td>\n",
              "      <td></td>\n",
              "      <td>Website</td>\n",
              "      <td>XXXXXXX</td>\n",
              "      <td>wXXXXXXX@gmail.com</td>\n",
              "      <td>Sales-Agent-10</td>\n",
              "      <td></td>\n",
              "      <td>Mode-5</td>\n",
              "      <td>Open</td>\n",
              "    </tr>\n",
              "    <tr>\n",
              "      <th>4</th>\n",
              "      <td>14-11-2018 07:34</td>\n",
              "      <td></td>\n",
              "      <td>Website</td>\n",
              "      <td>XXXXXXX</td>\n",
              "      <td>cXXXXXXX@gmail.com</td>\n",
              "      <td>Sales-Agent-10</td>\n",
              "      <td></td>\n",
              "      <td>Mode-5</td>\n",
              "      <td>Open</td>\n",
              "    </tr>\n",
              "  </tbody>\n",
              "</table>\n",
              "</div>"
            ],
            "text/plain": [
              "            Created Product_ID   Source  ... Location Delivery_Mode Status\n",
              "0  14-11-2018 10:05             Website  ...                 Mode-5   Open\n",
              "1  14-11-2018 09:22             Website  ...                 Mode-5   Open\n",
              "2  14-11-2018 09:21             Website  ...                 Mode-5   Open\n",
              "3  14-11-2018 08:46             Website  ...                 Mode-5   Open\n",
              "4  14-11-2018 07:34             Website  ...                 Mode-5   Open\n",
              "\n",
              "[5 rows x 9 columns]"
            ]
          },
          "metadata": {
            "tags": []
          },
          "execution_count": 11
        }
      ]
    },
    {
      "cell_type": "code",
      "metadata": {
        "colab": {
          "base_uri": "https://localhost:8080/",
          "height": 343
        },
        "id": "X27h9TQR5EA_",
        "outputId": "2a129999-17b1-4b73-a643-2a50f54398e9"
      },
      "source": [
        "query='select distinct(Status) from data'\n",
        "unique_status=pd.read_sql(query,conn)\n",
        "unique_status"
      ],
      "execution_count": null,
      "outputs": [
        {
          "output_type": "execute_result",
          "data": {
            "text/html": [
              "<div>\n",
              "<style scoped>\n",
              "    .dataframe tbody tr th:only-of-type {\n",
              "        vertical-align: middle;\n",
              "    }\n",
              "\n",
              "    .dataframe tbody tr th {\n",
              "        vertical-align: top;\n",
              "    }\n",
              "\n",
              "    .dataframe thead th {\n",
              "        text-align: right;\n",
              "    }\n",
              "</style>\n",
              "<table border=\"1\" class=\"dataframe\">\n",
              "  <thead>\n",
              "    <tr style=\"text-align: right;\">\n",
              "      <th></th>\n",
              "      <th>Status</th>\n",
              "    </tr>\n",
              "  </thead>\n",
              "  <tbody>\n",
              "    <tr>\n",
              "      <th>0</th>\n",
              "      <td>Open</td>\n",
              "    </tr>\n",
              "    <tr>\n",
              "      <th>1</th>\n",
              "      <td>Potential</td>\n",
              "    </tr>\n",
              "    <tr>\n",
              "      <th>2</th>\n",
              "      <td>In Progress Positive</td>\n",
              "    </tr>\n",
              "    <tr>\n",
              "      <th>3</th>\n",
              "      <td>Not Responding</td>\n",
              "    </tr>\n",
              "    <tr>\n",
              "      <th>4</th>\n",
              "      <td>Just Enquiry</td>\n",
              "    </tr>\n",
              "    <tr>\n",
              "      <th>5</th>\n",
              "      <td>Junk Lead</td>\n",
              "    </tr>\n",
              "    <tr>\n",
              "      <th>6</th>\n",
              "      <td>CONVERTED</td>\n",
              "    </tr>\n",
              "    <tr>\n",
              "      <th>7</th>\n",
              "      <td>In Progress Negative</td>\n",
              "    </tr>\n",
              "    <tr>\n",
              "      <th>8</th>\n",
              "      <td>LOST</td>\n",
              "    </tr>\n",
              "    <tr>\n",
              "      <th>9</th>\n",
              "      <td>Long Term</td>\n",
              "    </tr>\n",
              "  </tbody>\n",
              "</table>\n",
              "</div>"
            ],
            "text/plain": [
              "                 Status\n",
              "0                  Open\n",
              "1             Potential\n",
              "2  In Progress Positive\n",
              "3        Not Responding\n",
              "4          Just Enquiry\n",
              "5             Junk Lead\n",
              "6             CONVERTED\n",
              "7  In Progress Negative\n",
              "8                  LOST\n",
              "9             Long Term"
            ]
          },
          "metadata": {
            "tags": []
          },
          "execution_count": 12
        }
      ]
    },
    {
      "cell_type": "code",
      "metadata": {
        "colab": {
          "base_uri": "https://localhost:8080/",
          "height": 580
        },
        "id": "f3g2Gy5s5E1P",
        "outputId": "bd75b0e8-0d6f-4bd2-926e-2594c985236a"
      },
      "source": [
        "query='select distinct(Location) from data'\n",
        "unique_location=pd.read_sql(query,conn)\n",
        "unique_location"
      ],
      "execution_count": null,
      "outputs": [
        {
          "output_type": "execute_result",
          "data": {
            "text/html": [
              "<div>\n",
              "<style scoped>\n",
              "    .dataframe tbody tr th:only-of-type {\n",
              "        vertical-align: middle;\n",
              "    }\n",
              "\n",
              "    .dataframe tbody tr th {\n",
              "        vertical-align: top;\n",
              "    }\n",
              "\n",
              "    .dataframe thead th {\n",
              "        text-align: right;\n",
              "    }\n",
              "</style>\n",
              "<table border=\"1\" class=\"dataframe\">\n",
              "  <thead>\n",
              "    <tr style=\"text-align: right;\">\n",
              "      <th></th>\n",
              "      <th>Location</th>\n",
              "    </tr>\n",
              "  </thead>\n",
              "  <tbody>\n",
              "    <tr>\n",
              "      <th>0</th>\n",
              "      <td></td>\n",
              "    </tr>\n",
              "    <tr>\n",
              "      <th>1</th>\n",
              "      <td>Bangalore</td>\n",
              "    </tr>\n",
              "    <tr>\n",
              "      <th>2</th>\n",
              "      <td>Other Locations</td>\n",
              "    </tr>\n",
              "    <tr>\n",
              "      <th>3</th>\n",
              "      <td>UAE</td>\n",
              "    </tr>\n",
              "    <tr>\n",
              "      <th>4</th>\n",
              "      <td>Trivandrum</td>\n",
              "    </tr>\n",
              "    <tr>\n",
              "      <th>5</th>\n",
              "      <td>Hyderabad</td>\n",
              "    </tr>\n",
              "    <tr>\n",
              "      <th>6</th>\n",
              "      <td>Chennai</td>\n",
              "    </tr>\n",
              "    <tr>\n",
              "      <th>7</th>\n",
              "      <td>UK</td>\n",
              "    </tr>\n",
              "    <tr>\n",
              "      <th>8</th>\n",
              "      <td>USA</td>\n",
              "    </tr>\n",
              "    <tr>\n",
              "      <th>9</th>\n",
              "      <td>Delhi</td>\n",
              "    </tr>\n",
              "    <tr>\n",
              "      <th>10</th>\n",
              "      <td>Mumbai</td>\n",
              "    </tr>\n",
              "    <tr>\n",
              "      <th>11</th>\n",
              "      <td>Kolkata</td>\n",
              "    </tr>\n",
              "    <tr>\n",
              "      <th>12</th>\n",
              "      <td>Singapore</td>\n",
              "    </tr>\n",
              "    <tr>\n",
              "      <th>13</th>\n",
              "      <td>Pune</td>\n",
              "    </tr>\n",
              "    <tr>\n",
              "      <th>14</th>\n",
              "      <td>AUSTRALIA</td>\n",
              "    </tr>\n",
              "    <tr>\n",
              "      <th>15</th>\n",
              "      <td>EUROPE</td>\n",
              "    </tr>\n",
              "    <tr>\n",
              "      <th>16</th>\n",
              "      <td>Malaysia</td>\n",
              "    </tr>\n",
              "    <tr>\n",
              "      <th>17</th>\n",
              "      <td>Howrah</td>\n",
              "    </tr>\n",
              "  </tbody>\n",
              "</table>\n",
              "</div>"
            ],
            "text/plain": [
              "           Location\n",
              "0                  \n",
              "1         Bangalore\n",
              "2   Other Locations\n",
              "3               UAE\n",
              "4        Trivandrum\n",
              "5         Hyderabad\n",
              "6           Chennai\n",
              "7                UK\n",
              "8               USA\n",
              "9             Delhi\n",
              "10           Mumbai\n",
              "11          Kolkata\n",
              "12        Singapore\n",
              "13             Pune\n",
              "14        AUSTRALIA\n",
              "15           EUROPE\n",
              "16         Malaysia\n",
              "17           Howrah"
            ]
          },
          "metadata": {
            "tags": []
          },
          "execution_count": 13
        }
      ]
    },
    {
      "cell_type": "code",
      "metadata": {
        "colab": {
          "base_uri": "https://localhost:8080/",
          "height": 817
        },
        "id": "TAejkkvk5J-z",
        "outputId": "2a3a356c-5d30-44a4-dc63-ea1f0e14183e"
      },
      "source": [
        "query='select distinct(Source) from data'\n",
        "unique_Source=pd.read_sql(query,conn)\n",
        "unique_Source"
      ],
      "execution_count": null,
      "outputs": [
        {
          "output_type": "execute_result",
          "data": {
            "text/html": [
              "<div>\n",
              "<style scoped>\n",
              "    .dataframe tbody tr th:only-of-type {\n",
              "        vertical-align: middle;\n",
              "    }\n",
              "\n",
              "    .dataframe tbody tr th {\n",
              "        vertical-align: top;\n",
              "    }\n",
              "\n",
              "    .dataframe thead th {\n",
              "        text-align: right;\n",
              "    }\n",
              "</style>\n",
              "<table border=\"1\" class=\"dataframe\">\n",
              "  <thead>\n",
              "    <tr style=\"text-align: right;\">\n",
              "      <th></th>\n",
              "      <th>Source</th>\n",
              "    </tr>\n",
              "  </thead>\n",
              "  <tbody>\n",
              "    <tr>\n",
              "      <th>0</th>\n",
              "      <td>Website</td>\n",
              "    </tr>\n",
              "    <tr>\n",
              "      <th>1</th>\n",
              "      <td></td>\n",
              "    </tr>\n",
              "    <tr>\n",
              "      <th>2</th>\n",
              "      <td>Live Chat-Google Organic</td>\n",
              "    </tr>\n",
              "    <tr>\n",
              "      <th>3</th>\n",
              "      <td>Call</td>\n",
              "    </tr>\n",
              "    <tr>\n",
              "      <th>4</th>\n",
              "      <td>Live Chat-Direct</td>\n",
              "    </tr>\n",
              "    <tr>\n",
              "      <th>5</th>\n",
              "      <td>By Recommendation</td>\n",
              "    </tr>\n",
              "    <tr>\n",
              "      <th>6</th>\n",
              "      <td>Customer Referral</td>\n",
              "    </tr>\n",
              "    <tr>\n",
              "      <th>7</th>\n",
              "      <td>Live Chat-Blog</td>\n",
              "    </tr>\n",
              "    <tr>\n",
              "      <th>8</th>\n",
              "      <td>Live Chat -PPC</td>\n",
              "    </tr>\n",
              "    <tr>\n",
              "      <th>9</th>\n",
              "      <td>Live Chat-Google Ads</td>\n",
              "    </tr>\n",
              "    <tr>\n",
              "      <th>10</th>\n",
              "      <td>Live Chat-Adwords Remarketing</td>\n",
              "    </tr>\n",
              "    <tr>\n",
              "      <th>11</th>\n",
              "      <td>E-Mail Message</td>\n",
              "    </tr>\n",
              "    <tr>\n",
              "      <th>12</th>\n",
              "      <td>Existing Client</td>\n",
              "    </tr>\n",
              "    <tr>\n",
              "      <th>13</th>\n",
              "      <td>Live Chat-CPC</td>\n",
              "    </tr>\n",
              "    <tr>\n",
              "      <th>14</th>\n",
              "      <td>Existing Customer</td>\n",
              "    </tr>\n",
              "    <tr>\n",
              "      <th>15</th>\n",
              "      <td>Live Chat-Quora</td>\n",
              "    </tr>\n",
              "    <tr>\n",
              "      <th>16</th>\n",
              "      <td>US Website</td>\n",
              "    </tr>\n",
              "    <tr>\n",
              "      <th>17</th>\n",
              "      <td>Just Dial</td>\n",
              "    </tr>\n",
              "    <tr>\n",
              "      <th>18</th>\n",
              "      <td>Campaign</td>\n",
              "    </tr>\n",
              "    <tr>\n",
              "      <th>19</th>\n",
              "      <td>Other</td>\n",
              "    </tr>\n",
              "    <tr>\n",
              "      <th>20</th>\n",
              "      <td>E-mail Campaign</td>\n",
              "    </tr>\n",
              "    <tr>\n",
              "      <th>21</th>\n",
              "      <td>CRM form</td>\n",
              "    </tr>\n",
              "    <tr>\n",
              "      <th>22</th>\n",
              "      <td>SMS Campaign</td>\n",
              "    </tr>\n",
              "    <tr>\n",
              "      <th>23</th>\n",
              "      <td>Personal Contact</td>\n",
              "    </tr>\n",
              "    <tr>\n",
              "      <th>24</th>\n",
              "      <td>Live Chat-Youtube</td>\n",
              "    </tr>\n",
              "    <tr>\n",
              "      <th>25</th>\n",
              "      <td>Live Chat-Justdial</td>\n",
              "    </tr>\n",
              "  </tbody>\n",
              "</table>\n",
              "</div>"
            ],
            "text/plain": [
              "                           Source\n",
              "0                         Website\n",
              "1                                \n",
              "2        Live Chat-Google Organic\n",
              "3                            Call\n",
              "4                Live Chat-Direct\n",
              "5               By Recommendation\n",
              "6               Customer Referral\n",
              "7                  Live Chat-Blog\n",
              "8                  Live Chat -PPC\n",
              "9            Live Chat-Google Ads\n",
              "10  Live Chat-Adwords Remarketing\n",
              "11                 E-Mail Message\n",
              "12                Existing Client\n",
              "13                  Live Chat-CPC\n",
              "14              Existing Customer\n",
              "15                Live Chat-Quora\n",
              "16                     US Website\n",
              "17                      Just Dial\n",
              "18                       Campaign\n",
              "19                          Other\n",
              "20                E-mail Campaign\n",
              "21                       CRM form\n",
              "22                   SMS Campaign\n",
              "23               Personal Contact\n",
              "24              Live Chat-Youtube\n",
              "25             Live Chat-Justdial"
            ]
          },
          "metadata": {
            "tags": []
          },
          "execution_count": 14
        }
      ]
    },
    {
      "cell_type": "code",
      "metadata": {
        "colab": {
          "base_uri": "https://localhost:8080/"
        },
        "id": "WvulGVCe5ONv",
        "outputId": "e83a4d8f-b9ed-43ef-c9ef-a2ce2b637bee"
      },
      "source": [
        "data.Status.value_counts()"
      ],
      "execution_count": null,
      "outputs": [
        {
          "output_type": "execute_result",
          "data": {
            "text/plain": [
              "Junk Lead               1536\n",
              "Not Responding          1129\n",
              "CONVERTED                834\n",
              "Just Enquiry             760\n",
              "Potential                708\n",
              "Long Term                646\n",
              "In Progress Positive     643\n",
              "In Progress Negative     626\n",
              "LOST                     440\n",
              "Open                      82\n",
              "converted                 18\n",
              "Name: Status, dtype: int64"
            ]
          },
          "metadata": {
            "tags": []
          },
          "execution_count": 15
        }
      ]
    },
    {
      "cell_type": "code",
      "metadata": {
        "id": "sVd6dB-X68Rj"
      },
      "source": [
        "data.to_csv(\"data_client.csv\")"
      ],
      "execution_count": null,
      "outputs": []
    },
    {
      "cell_type": "markdown",
      "metadata": {
        "id": "rh_TcZ4SH5yj"
      },
      "source": [
        "##**Data is extracted**"
      ]
    },
    {
      "cell_type": "code",
      "metadata": {
        "colab": {
          "base_uri": "https://localhost:8080/",
          "height": 296
        },
        "id": "ylrjMIZX6Zxh",
        "outputId": "7f24dedb-01df-4777-f416-978429bec133"
      },
      "source": [
        "data1 = pd.read_csv(\"data_client.csv\")\n",
        "data1.head()"
      ],
      "execution_count": null,
      "outputs": [
        {
          "output_type": "execute_result",
          "data": {
            "text/html": [
              "<div>\n",
              "<style scoped>\n",
              "    .dataframe tbody tr th:only-of-type {\n",
              "        vertical-align: middle;\n",
              "    }\n",
              "\n",
              "    .dataframe tbody tr th {\n",
              "        vertical-align: top;\n",
              "    }\n",
              "\n",
              "    .dataframe thead th {\n",
              "        text-align: right;\n",
              "    }\n",
              "</style>\n",
              "<table border=\"1\" class=\"dataframe\">\n",
              "  <thead>\n",
              "    <tr style=\"text-align: right;\">\n",
              "      <th></th>\n",
              "      <th>Unnamed: 0</th>\n",
              "      <th>Created</th>\n",
              "      <th>Product_ID</th>\n",
              "      <th>Source</th>\n",
              "      <th>Mobile</th>\n",
              "      <th>EMAIL</th>\n",
              "      <th>Sales_Agent</th>\n",
              "      <th>Location</th>\n",
              "      <th>Delivery_Mode</th>\n",
              "      <th>Status</th>\n",
              "    </tr>\n",
              "  </thead>\n",
              "  <tbody>\n",
              "    <tr>\n",
              "      <th>0</th>\n",
              "      <td>0</td>\n",
              "      <td>14-11-2018 10:05</td>\n",
              "      <td>NaN</td>\n",
              "      <td>Website</td>\n",
              "      <td>984XXXXXXX</td>\n",
              "      <td>aXXXXXXX@gmail.com</td>\n",
              "      <td>Sales-Agent-11</td>\n",
              "      <td>NaN</td>\n",
              "      <td>Mode-5</td>\n",
              "      <td>Open</td>\n",
              "    </tr>\n",
              "    <tr>\n",
              "      <th>1</th>\n",
              "      <td>1</td>\n",
              "      <td>14-11-2018 09:22</td>\n",
              "      <td>NaN</td>\n",
              "      <td>Website</td>\n",
              "      <td>XXXXXXX</td>\n",
              "      <td>#VALUE!</td>\n",
              "      <td>Sales-Agent-10</td>\n",
              "      <td>NaN</td>\n",
              "      <td>Mode-5</td>\n",
              "      <td>Open</td>\n",
              "    </tr>\n",
              "    <tr>\n",
              "      <th>2</th>\n",
              "      <td>2</td>\n",
              "      <td>14-11-2018 09:21</td>\n",
              "      <td>NaN</td>\n",
              "      <td>Website</td>\n",
              "      <td>XXXXXXX</td>\n",
              "      <td>dXXXXXXX@yahoo.com</td>\n",
              "      <td>Sales-Agent-10</td>\n",
              "      <td>NaN</td>\n",
              "      <td>Mode-5</td>\n",
              "      <td>Open</td>\n",
              "    </tr>\n",
              "    <tr>\n",
              "      <th>3</th>\n",
              "      <td>3</td>\n",
              "      <td>14-11-2018 08:46</td>\n",
              "      <td>NaN</td>\n",
              "      <td>Website</td>\n",
              "      <td>XXXXXXX</td>\n",
              "      <td>wXXXXXXX@gmail.com</td>\n",
              "      <td>Sales-Agent-10</td>\n",
              "      <td>NaN</td>\n",
              "      <td>Mode-5</td>\n",
              "      <td>Open</td>\n",
              "    </tr>\n",
              "    <tr>\n",
              "      <th>4</th>\n",
              "      <td>4</td>\n",
              "      <td>14-11-2018 07:34</td>\n",
              "      <td>NaN</td>\n",
              "      <td>Website</td>\n",
              "      <td>XXXXXXX</td>\n",
              "      <td>cXXXXXXX@gmail.com</td>\n",
              "      <td>Sales-Agent-10</td>\n",
              "      <td>NaN</td>\n",
              "      <td>Mode-5</td>\n",
              "      <td>Open</td>\n",
              "    </tr>\n",
              "  </tbody>\n",
              "</table>\n",
              "</div>"
            ],
            "text/plain": [
              "   Unnamed: 0           Created  Product_ID  ... Location Delivery_Mode Status\n",
              "0           0  14-11-2018 10:05         NaN  ...      NaN        Mode-5   Open\n",
              "1           1  14-11-2018 09:22         NaN  ...      NaN        Mode-5   Open\n",
              "2           2  14-11-2018 09:21         NaN  ...      NaN        Mode-5   Open\n",
              "3           3  14-11-2018 08:46         NaN  ...      NaN        Mode-5   Open\n",
              "4           4  14-11-2018 07:34         NaN  ...      NaN        Mode-5   Open\n",
              "\n",
              "[5 rows x 10 columns]"
            ]
          },
          "metadata": {
            "tags": []
          },
          "execution_count": 17
        }
      ]
    },
    {
      "cell_type": "code",
      "metadata": {
        "colab": {
          "base_uri": "https://localhost:8080/"
        },
        "id": "4Mjg3pVl62Ju",
        "outputId": "41133469-c6fe-4df7-b604-f7ab74a1c270"
      },
      "source": [
        "data1.info()"
      ],
      "execution_count": null,
      "outputs": [
        {
          "output_type": "stream",
          "text": [
            "<class 'pandas.core.frame.DataFrame'>\n",
            "RangeIndex: 7422 entries, 0 to 7421\n",
            "Data columns (total 10 columns):\n",
            " #   Column         Non-Null Count  Dtype  \n",
            "---  ------         --------------  -----  \n",
            " 0   Unnamed: 0     7422 non-null   int64  \n",
            " 1   Created        7422 non-null   object \n",
            " 2   Product_ID     7364 non-null   float64\n",
            " 3   Source         7405 non-null   object \n",
            " 4   Mobile         5612 non-null   object \n",
            " 5   EMAIL          7422 non-null   object \n",
            " 6   Sales_Agent    7399 non-null   object \n",
            " 7   Location       7364 non-null   object \n",
            " 8   Delivery_Mode  7422 non-null   object \n",
            " 9   Status         7422 non-null   object \n",
            "dtypes: float64(1), int64(1), object(8)\n",
            "memory usage: 580.0+ KB\n"
          ],
          "name": "stdout"
        }
      ]
    },
    {
      "cell_type": "code",
      "metadata": {
        "colab": {
          "base_uri": "https://localhost:8080/"
        },
        "id": "Jd0mU8767Kf4",
        "outputId": "3bc41edb-16bc-406f-af46-88d98c292fa1"
      },
      "source": [
        "data1.isnull().sum()"
      ],
      "execution_count": null,
      "outputs": [
        {
          "output_type": "execute_result",
          "data": {
            "text/plain": [
              "Unnamed: 0          0\n",
              "Created             0\n",
              "Product_ID         58\n",
              "Source             17\n",
              "Mobile           1810\n",
              "EMAIL               0\n",
              "Sales_Agent        23\n",
              "Location           58\n",
              "Delivery_Mode       0\n",
              "Status              0\n",
              "dtype: int64"
            ]
          },
          "metadata": {
            "tags": []
          },
          "execution_count": 19
        }
      ]
    },
    {
      "cell_type": "code",
      "metadata": {
        "id": "xDdJm3W37M4E"
      },
      "source": [
        "data1 = data1.drop(['Unnamed: 0','Created','Mobile','EMAIL'],axis=1)"
      ],
      "execution_count": null,
      "outputs": []
    },
    {
      "cell_type": "code",
      "metadata": {
        "colab": {
          "base_uri": "https://localhost:8080/",
          "height": 195
        },
        "id": "GgQjfR2R7QQ6",
        "outputId": "7c622ac2-7d64-4b61-eda7-c40f51e6dbbc"
      },
      "source": [
        "data1.head()"
      ],
      "execution_count": null,
      "outputs": [
        {
          "output_type": "execute_result",
          "data": {
            "text/html": [
              "<div>\n",
              "<style scoped>\n",
              "    .dataframe tbody tr th:only-of-type {\n",
              "        vertical-align: middle;\n",
              "    }\n",
              "\n",
              "    .dataframe tbody tr th {\n",
              "        vertical-align: top;\n",
              "    }\n",
              "\n",
              "    .dataframe thead th {\n",
              "        text-align: right;\n",
              "    }\n",
              "</style>\n",
              "<table border=\"1\" class=\"dataframe\">\n",
              "  <thead>\n",
              "    <tr style=\"text-align: right;\">\n",
              "      <th></th>\n",
              "      <th>Product_ID</th>\n",
              "      <th>Source</th>\n",
              "      <th>Sales_Agent</th>\n",
              "      <th>Location</th>\n",
              "      <th>Delivery_Mode</th>\n",
              "      <th>Status</th>\n",
              "    </tr>\n",
              "  </thead>\n",
              "  <tbody>\n",
              "    <tr>\n",
              "      <th>0</th>\n",
              "      <td>NaN</td>\n",
              "      <td>Website</td>\n",
              "      <td>Sales-Agent-11</td>\n",
              "      <td>NaN</td>\n",
              "      <td>Mode-5</td>\n",
              "      <td>Open</td>\n",
              "    </tr>\n",
              "    <tr>\n",
              "      <th>1</th>\n",
              "      <td>NaN</td>\n",
              "      <td>Website</td>\n",
              "      <td>Sales-Agent-10</td>\n",
              "      <td>NaN</td>\n",
              "      <td>Mode-5</td>\n",
              "      <td>Open</td>\n",
              "    </tr>\n",
              "    <tr>\n",
              "      <th>2</th>\n",
              "      <td>NaN</td>\n",
              "      <td>Website</td>\n",
              "      <td>Sales-Agent-10</td>\n",
              "      <td>NaN</td>\n",
              "      <td>Mode-5</td>\n",
              "      <td>Open</td>\n",
              "    </tr>\n",
              "    <tr>\n",
              "      <th>3</th>\n",
              "      <td>NaN</td>\n",
              "      <td>Website</td>\n",
              "      <td>Sales-Agent-10</td>\n",
              "      <td>NaN</td>\n",
              "      <td>Mode-5</td>\n",
              "      <td>Open</td>\n",
              "    </tr>\n",
              "    <tr>\n",
              "      <th>4</th>\n",
              "      <td>NaN</td>\n",
              "      <td>Website</td>\n",
              "      <td>Sales-Agent-10</td>\n",
              "      <td>NaN</td>\n",
              "      <td>Mode-5</td>\n",
              "      <td>Open</td>\n",
              "    </tr>\n",
              "  </tbody>\n",
              "</table>\n",
              "</div>"
            ],
            "text/plain": [
              "   Product_ID   Source     Sales_Agent Location Delivery_Mode Status\n",
              "0         NaN  Website  Sales-Agent-11      NaN        Mode-5   Open\n",
              "1         NaN  Website  Sales-Agent-10      NaN        Mode-5   Open\n",
              "2         NaN  Website  Sales-Agent-10      NaN        Mode-5   Open\n",
              "3         NaN  Website  Sales-Agent-10      NaN        Mode-5   Open\n",
              "4         NaN  Website  Sales-Agent-10      NaN        Mode-5   Open"
            ]
          },
          "metadata": {
            "tags": []
          },
          "execution_count": 21
        }
      ]
    },
    {
      "cell_type": "markdown",
      "metadata": {
        "id": "o45-0zhiH_HD"
      },
      "source": [
        "##**Handling missing values**"
      ]
    },
    {
      "cell_type": "code",
      "metadata": {
        "colab": {
          "base_uri": "https://localhost:8080/"
        },
        "id": "vLF-z4z3V1vo",
        "outputId": "5d955f7c-d5fd-4e75-8cee-2d7b865ded52"
      },
      "source": [
        "data1.isnull().sum()"
      ],
      "execution_count": null,
      "outputs": [
        {
          "output_type": "execute_result",
          "data": {
            "text/plain": [
              "Product_ID       58\n",
              "Source           17\n",
              "Sales_Agent      23\n",
              "Location         58\n",
              "Delivery_Mode     0\n",
              "Status            0\n",
              "dtype: int64"
            ]
          },
          "metadata": {
            "tags": []
          },
          "execution_count": 22
        }
      ]
    },
    {
      "cell_type": "code",
      "metadata": {
        "id": "K9S_4_4774JM"
      },
      "source": [
        "data1=data1.fillna(0)"
      ],
      "execution_count": null,
      "outputs": []
    },
    {
      "cell_type": "code",
      "metadata": {
        "colab": {
          "base_uri": "https://localhost:8080/"
        },
        "id": "E9JD5xhW_j8E",
        "outputId": "a7a0ddaa-bbb2-4f76-e382-924657b420cd"
      },
      "source": [
        "data1.isnull().sum()"
      ],
      "execution_count": null,
      "outputs": [
        {
          "output_type": "execute_result",
          "data": {
            "text/plain": [
              "Product_ID       0\n",
              "Source           0\n",
              "Sales_Agent      0\n",
              "Location         0\n",
              "Delivery_Mode    0\n",
              "Status           0\n",
              "dtype: int64"
            ]
          },
          "metadata": {
            "tags": []
          },
          "execution_count": 24
        }
      ]
    },
    {
      "cell_type": "code",
      "metadata": {
        "colab": {
          "base_uri": "https://localhost:8080/",
          "height": 195
        },
        "id": "yjKeYWJO9wbe",
        "outputId": "388347b7-b9d7-4a4e-9aa6-a590567d4a27"
      },
      "source": [
        "data1.head()"
      ],
      "execution_count": null,
      "outputs": [
        {
          "output_type": "execute_result",
          "data": {
            "text/html": [
              "<div>\n",
              "<style scoped>\n",
              "    .dataframe tbody tr th:only-of-type {\n",
              "        vertical-align: middle;\n",
              "    }\n",
              "\n",
              "    .dataframe tbody tr th {\n",
              "        vertical-align: top;\n",
              "    }\n",
              "\n",
              "    .dataframe thead th {\n",
              "        text-align: right;\n",
              "    }\n",
              "</style>\n",
              "<table border=\"1\" class=\"dataframe\">\n",
              "  <thead>\n",
              "    <tr style=\"text-align: right;\">\n",
              "      <th></th>\n",
              "      <th>Product_ID</th>\n",
              "      <th>Source</th>\n",
              "      <th>Sales_Agent</th>\n",
              "      <th>Location</th>\n",
              "      <th>Delivery_Mode</th>\n",
              "      <th>Status</th>\n",
              "    </tr>\n",
              "  </thead>\n",
              "  <tbody>\n",
              "    <tr>\n",
              "      <th>0</th>\n",
              "      <td>0.0</td>\n",
              "      <td>Website</td>\n",
              "      <td>Sales-Agent-11</td>\n",
              "      <td>0</td>\n",
              "      <td>Mode-5</td>\n",
              "      <td>Open</td>\n",
              "    </tr>\n",
              "    <tr>\n",
              "      <th>1</th>\n",
              "      <td>0.0</td>\n",
              "      <td>Website</td>\n",
              "      <td>Sales-Agent-10</td>\n",
              "      <td>0</td>\n",
              "      <td>Mode-5</td>\n",
              "      <td>Open</td>\n",
              "    </tr>\n",
              "    <tr>\n",
              "      <th>2</th>\n",
              "      <td>0.0</td>\n",
              "      <td>Website</td>\n",
              "      <td>Sales-Agent-10</td>\n",
              "      <td>0</td>\n",
              "      <td>Mode-5</td>\n",
              "      <td>Open</td>\n",
              "    </tr>\n",
              "    <tr>\n",
              "      <th>3</th>\n",
              "      <td>0.0</td>\n",
              "      <td>Website</td>\n",
              "      <td>Sales-Agent-10</td>\n",
              "      <td>0</td>\n",
              "      <td>Mode-5</td>\n",
              "      <td>Open</td>\n",
              "    </tr>\n",
              "    <tr>\n",
              "      <th>4</th>\n",
              "      <td>0.0</td>\n",
              "      <td>Website</td>\n",
              "      <td>Sales-Agent-10</td>\n",
              "      <td>0</td>\n",
              "      <td>Mode-5</td>\n",
              "      <td>Open</td>\n",
              "    </tr>\n",
              "  </tbody>\n",
              "</table>\n",
              "</div>"
            ],
            "text/plain": [
              "   Product_ID   Source     Sales_Agent Location Delivery_Mode Status\n",
              "0         0.0  Website  Sales-Agent-11        0        Mode-5   Open\n",
              "1         0.0  Website  Sales-Agent-10        0        Mode-5   Open\n",
              "2         0.0  Website  Sales-Agent-10        0        Mode-5   Open\n",
              "3         0.0  Website  Sales-Agent-10        0        Mode-5   Open\n",
              "4         0.0  Website  Sales-Agent-10        0        Mode-5   Open"
            ]
          },
          "metadata": {
            "tags": []
          },
          "execution_count": 25
        }
      ]
    },
    {
      "cell_type": "code",
      "metadata": {
        "colab": {
          "base_uri": "https://localhost:8080/"
        },
        "id": "UaX_ztrpSZgb",
        "outputId": "f6af3a09-a40e-4706-8e36-b432216bbfed"
      },
      "source": [
        "data1.shape"
      ],
      "execution_count": null,
      "outputs": [
        {
          "output_type": "execute_result",
          "data": {
            "text/plain": [
              "(7422, 6)"
            ]
          },
          "metadata": {
            "tags": []
          },
          "execution_count": 26
        }
      ]
    },
    {
      "cell_type": "markdown",
      "metadata": {
        "id": "406__7GyIExG"
      },
      "source": [
        "## **Lead categories are classified into high and low potential**"
      ]
    },
    {
      "cell_type": "code",
      "metadata": {
        "id": "w4qccavYN2Op"
      },
      "source": [
        "data1['Status']=data1['Status'].replace(['Open','Potential','In Progress Positive','CONVERTED','Long Term'],1)\n",
        "data1['Status']=data1['Status'].replace(['Not Responding','Just Enquiry','Junk Lead','In Progress Negative','LOST'],0)"
      ],
      "execution_count": null,
      "outputs": []
    },
    {
      "cell_type": "code",
      "metadata": {
        "colab": {
          "base_uri": "https://localhost:8080/"
        },
        "id": "JUf4j6p9OUWk",
        "outputId": "52baa1c9-7b41-4000-d2bd-9ca2ff68c4d8"
      },
      "source": [
        "data1.Status"
      ],
      "execution_count": null,
      "outputs": [
        {
          "output_type": "execute_result",
          "data": {
            "text/plain": [
              "0       1\n",
              "1       1\n",
              "2       1\n",
              "3       1\n",
              "4       1\n",
              "       ..\n",
              "7417    0\n",
              "7418    0\n",
              "7419    0\n",
              "7420    0\n",
              "7421    1\n",
              "Name: Status, Length: 7422, dtype: object"
            ]
          },
          "metadata": {
            "tags": []
          },
          "execution_count": 28
        }
      ]
    },
    {
      "cell_type": "code",
      "metadata": {
        "colab": {
          "base_uri": "https://localhost:8080/",
          "height": 402
        },
        "id": "WKh5IugQP3cm",
        "outputId": "46e0561e-13c6-456f-ee84-6c36123f9508"
      },
      "source": [
        "data1"
      ],
      "execution_count": null,
      "outputs": [
        {
          "output_type": "execute_result",
          "data": {
            "text/html": [
              "<div>\n",
              "<style scoped>\n",
              "    .dataframe tbody tr th:only-of-type {\n",
              "        vertical-align: middle;\n",
              "    }\n",
              "\n",
              "    .dataframe tbody tr th {\n",
              "        vertical-align: top;\n",
              "    }\n",
              "\n",
              "    .dataframe thead th {\n",
              "        text-align: right;\n",
              "    }\n",
              "</style>\n",
              "<table border=\"1\" class=\"dataframe\">\n",
              "  <thead>\n",
              "    <tr style=\"text-align: right;\">\n",
              "      <th></th>\n",
              "      <th>Product_ID</th>\n",
              "      <th>Source</th>\n",
              "      <th>Sales_Agent</th>\n",
              "      <th>Location</th>\n",
              "      <th>Delivery_Mode</th>\n",
              "      <th>Status</th>\n",
              "    </tr>\n",
              "  </thead>\n",
              "  <tbody>\n",
              "    <tr>\n",
              "      <th>0</th>\n",
              "      <td>0.0</td>\n",
              "      <td>Website</td>\n",
              "      <td>Sales-Agent-11</td>\n",
              "      <td>0</td>\n",
              "      <td>Mode-5</td>\n",
              "      <td>1</td>\n",
              "    </tr>\n",
              "    <tr>\n",
              "      <th>1</th>\n",
              "      <td>0.0</td>\n",
              "      <td>Website</td>\n",
              "      <td>Sales-Agent-10</td>\n",
              "      <td>0</td>\n",
              "      <td>Mode-5</td>\n",
              "      <td>1</td>\n",
              "    </tr>\n",
              "    <tr>\n",
              "      <th>2</th>\n",
              "      <td>0.0</td>\n",
              "      <td>Website</td>\n",
              "      <td>Sales-Agent-10</td>\n",
              "      <td>0</td>\n",
              "      <td>Mode-5</td>\n",
              "      <td>1</td>\n",
              "    </tr>\n",
              "    <tr>\n",
              "      <th>3</th>\n",
              "      <td>0.0</td>\n",
              "      <td>Website</td>\n",
              "      <td>Sales-Agent-10</td>\n",
              "      <td>0</td>\n",
              "      <td>Mode-5</td>\n",
              "      <td>1</td>\n",
              "    </tr>\n",
              "    <tr>\n",
              "      <th>4</th>\n",
              "      <td>0.0</td>\n",
              "      <td>Website</td>\n",
              "      <td>Sales-Agent-10</td>\n",
              "      <td>0</td>\n",
              "      <td>Mode-5</td>\n",
              "      <td>1</td>\n",
              "    </tr>\n",
              "    <tr>\n",
              "      <th>...</th>\n",
              "      <td>...</td>\n",
              "      <td>...</td>\n",
              "      <td>...</td>\n",
              "      <td>...</td>\n",
              "      <td>...</td>\n",
              "      <td>...</td>\n",
              "    </tr>\n",
              "    <tr>\n",
              "      <th>7417</th>\n",
              "      <td>9.0</td>\n",
              "      <td>Call</td>\n",
              "      <td>Sales-Agent-6</td>\n",
              "      <td>Mumbai</td>\n",
              "      <td>Mode-4</td>\n",
              "      <td>0</td>\n",
              "    </tr>\n",
              "    <tr>\n",
              "      <th>7418</th>\n",
              "      <td>15.0</td>\n",
              "      <td>Call</td>\n",
              "      <td>Sales-Agent-12</td>\n",
              "      <td>Other Locations</td>\n",
              "      <td>Mode-5</td>\n",
              "      <td>0</td>\n",
              "    </tr>\n",
              "    <tr>\n",
              "      <th>7419</th>\n",
              "      <td>5.0</td>\n",
              "      <td>Live Chat-Direct</td>\n",
              "      <td>Sales-Agent-11</td>\n",
              "      <td>Bangalore</td>\n",
              "      <td>Mode-1</td>\n",
              "      <td>0</td>\n",
              "    </tr>\n",
              "    <tr>\n",
              "      <th>7420</th>\n",
              "      <td>21.0</td>\n",
              "      <td>CRM form</td>\n",
              "      <td>Sales-Agent-4</td>\n",
              "      <td>Other Locations</td>\n",
              "      <td>Mode-1</td>\n",
              "      <td>0</td>\n",
              "    </tr>\n",
              "    <tr>\n",
              "      <th>7421</th>\n",
              "      <td>25.0</td>\n",
              "      <td>Website</td>\n",
              "      <td>Sales-Agent-3</td>\n",
              "      <td>Chennai</td>\n",
              "      <td>Mode-1</td>\n",
              "      <td>1</td>\n",
              "    </tr>\n",
              "  </tbody>\n",
              "</table>\n",
              "<p>7422 rows × 6 columns</p>\n",
              "</div>"
            ],
            "text/plain": [
              "      Product_ID            Source  ... Delivery_Mode Status\n",
              "0            0.0           Website  ...        Mode-5      1\n",
              "1            0.0           Website  ...        Mode-5      1\n",
              "2            0.0           Website  ...        Mode-5      1\n",
              "3            0.0           Website  ...        Mode-5      1\n",
              "4            0.0           Website  ...        Mode-5      1\n",
              "...          ...               ...  ...           ...    ...\n",
              "7417         9.0              Call  ...        Mode-4      0\n",
              "7418        15.0              Call  ...        Mode-5      0\n",
              "7419         5.0  Live Chat-Direct  ...        Mode-1      0\n",
              "7420        21.0          CRM form  ...        Mode-1      0\n",
              "7421        25.0           Website  ...        Mode-1      1\n",
              "\n",
              "[7422 rows x 6 columns]"
            ]
          },
          "metadata": {
            "tags": []
          },
          "execution_count": 29
        }
      ]
    },
    {
      "cell_type": "markdown",
      "metadata": {
        "id": "ISHdke0fINfE"
      },
      "source": [
        "#**Import basic packages**"
      ]
    },
    {
      "cell_type": "code",
      "metadata": {
        "id": "XfH6G-uk-etW"
      },
      "source": [
        "\n",
        "# import basic packages\n",
        "import numpy as np\n",
        "import pandas as pd\n",
        "import matplotlib.pyplot as plt\n",
        "import seaborn as sns\n",
        "%matplotlib inline\n",
        "from scipy import stats\n",
        "import warnings\n",
        "warnings.filterwarnings('ignore')"
      ],
      "execution_count": null,
      "outputs": []
    },
    {
      "cell_type": "markdown",
      "metadata": {
        "id": "kef-wa9gIRQH"
      },
      "source": [
        "#**Exploratory data analysis**"
      ]
    },
    {
      "cell_type": "code",
      "metadata": {
        "colab": {
          "base_uri": "https://localhost:8080/",
          "height": 571
        },
        "id": "Sh6ImDvY-0Y9",
        "outputId": "3f64616e-d336-46d1-c261-d0475fa8b8c2"
      },
      "source": [
        "plt.figure(figsize=(14,7),dpi=150)\n",
        "sns.countplot('Status',data=data1,palette='CMRmap')\n",
        "plt.xlabel('Status')\n",
        "plt.ylabel('Count')\n",
        "plt.xticks(rotation=45)\n",
        "plt.title('Status',fontsize = 20)\n",
        "plt.show()"
      ],
      "execution_count": null,
      "outputs": [
        {
          "output_type": "display_data",
          "data": {
            "image/png": "[encoded data removed]",
            "text/plain": [
              "<Figure size 2100x1050 with 1 Axes>"
            ]
          },
          "metadata": {
            "tags": [],
            "needs_background": "light"
          }
        }
      ]
    },
    {
      "cell_type": "code",
      "metadata": {
        "colab": {
          "base_uri": "https://localhost:8080/",
          "height": 594
        },
        "id": "DTCXTs0o__Jt",
        "outputId": "e9cfd4fb-1bf6-4d03-edb7-fc92d8a5dc50"
      },
      "source": [
        "plt.figure(figsize=(14,7),dpi=150)\n",
        "sns.countplot('Location',data=data1,palette='CMRmap')\n",
        "plt.xlabel('Location')\n",
        "plt.ylabel('Count')\n",
        "plt.xticks(rotation=45)\n",
        "plt.title('Location',fontsize = 20)\n",
        "plt.show()\n"
      ],
      "execution_count": null,
      "outputs": [
        {
          "output_type": "display_data",
          "data": {
            "image/png": "[encoded data removed]",
            "text/plain": [
              "<Figure size 2100x1050 with 1 Axes>"
            ]
          },
          "metadata": {
            "tags": [],
            "needs_background": "light"
          }
        }
      ]
    },
    {
      "cell_type": "code",
      "metadata": {
        "colab": {
          "base_uri": "https://localhost:8080/",
          "height": 597
        },
        "id": "DxDcP8FvCzJ7",
        "outputId": "ac324cf6-c5e4-4036-8353-8bb71628aba8"
      },
      "source": [
        "plt.figure(figsize=(16,7),dpi=150)\n",
        "sns.countplot('Source',data=data1.head(500),palette='CMRmap')\n",
        "plt.xlabel('Source')\n",
        "plt.ylabel('Count')\n",
        "plt.xticks(rotation=45)\n",
        "plt.title('Source',fontsize = 30)\n",
        "plt.show()\n"
      ],
      "execution_count": null,
      "outputs": [
        {
          "output_type": "display_data",
          "data": {
            "image/png": "[encoded data removed]",
            "text/plain": [
              "<Figure size 2400x1050 with 1 Axes>"
            ]
          },
          "metadata": {
            "tags": [],
            "needs_background": "light"
          }
        }
      ]
    },
    {
      "cell_type": "code",
      "metadata": {
        "colab": {
          "base_uri": "https://localhost:8080/",
          "height": 593
        },
        "id": "fWUq310eDPbh",
        "outputId": "6d179325-6cd4-4d6b-ffdb-34ebc22b58f0"
      },
      "source": [
        "plt.figure(figsize=(14,7),dpi=150)\n",
        "sns.countplot('Sales_Agent',data=data1,palette='CMRmap')\n",
        "plt.xlabel('Sales_Agent')\n",
        "plt.ylabel('Count')\n",
        "plt.xticks(rotation=45)\n",
        "plt.title('Sales_Agent',fontsize = 20)\n",
        "plt.show()"
      ],
      "execution_count": null,
      "outputs": [
        {
          "output_type": "display_data",
          "data": {
            "image/png": "[encoded data removed]",
            "text/plain": [
              "<Figure size 2100x1050 with 1 Axes>"
            ]
          },
          "metadata": {
            "tags": [],
            "needs_background": "light"
          }
        }
      ]
    },
    {
      "cell_type": "code",
      "metadata": {
        "colab": {
          "base_uri": "https://localhost:8080/",
          "height": 562
        },
        "id": "7Upm_p8tFOmB",
        "outputId": "028bad43-7aee-4f94-a370-bb33dcc2d3e5"
      },
      "source": [
        "plt.figure(figsize=(14,7),dpi=150)\n",
        "sns.countplot('Delivery_Mode',data=data1,palette='CMRmap')\n",
        "plt.xlabel('Delivery_Mode')\n",
        "plt.ylabel('Count')\n",
        "plt.xticks(rotation=45)\n",
        "plt.title('Delivery_Mode',fontsize = 20)\n",
        "plt.show()"
      ],
      "execution_count": null,
      "outputs": [
        {
          "output_type": "display_data",
          "data": {
            "image/png": "[encoded data removed]",
            "text/plain": [
              "<Figure size 2100x1050 with 1 Axes>"
            ]
          },
          "metadata": {
            "tags": [],
            "needs_background": "light"
          }
        }
      ]
    },
    {
      "cell_type": "code",
      "metadata": {
        "colab": {
          "base_uri": "https://localhost:8080/"
        },
        "id": "yQYq2mQRF9l5",
        "outputId": "a445ecef-a741-4339-bb8b-b371af2a1521"
      },
      "source": [
        "data1.columns"
      ],
      "execution_count": null,
      "outputs": [
        {
          "output_type": "execute_result",
          "data": {
            "text/plain": [
              "Index(['Product_ID', 'Source', 'Sales_Agent', 'Location', 'Delivery_Mode',\n",
              "       'Status'],\n",
              "      dtype='object')"
            ]
          },
          "metadata": {
            "tags": []
          },
          "execution_count": 36
        }
      ]
    },
    {
      "cell_type": "code",
      "metadata": {
        "id": "_Jec8aY3HaaY"
      },
      "source": [
        "cat_data=['Source', 'Sales_Agent', 'Location',\n",
        "       'Delivery_Mode', 'Status']"
      ],
      "execution_count": null,
      "outputs": []
    },
    {
      "cell_type": "markdown",
      "metadata": {
        "id": "J3W4_fQSIYUd"
      },
      "source": [
        "## **Label encoder is used to encode the categorical variables**"
      ]
    },
    {
      "cell_type": "code",
      "metadata": {
        "id": "Dkf4ilxlHfOO"
      },
      "source": [
        "from sklearn.preprocessing import LabelEncoder\n",
        "label=LabelEncoder()\n",
        "\n",
        "for feat in cat_data:\n",
        "  data1[feat]=label.fit_transform(data1[feat].astype(str))"
      ],
      "execution_count": null,
      "outputs": []
    },
    {
      "cell_type": "code",
      "metadata": {
        "colab": {
          "base_uri": "https://localhost:8080/",
          "height": 195
        },
        "id": "7hJBxGXdHioO",
        "outputId": "0e8d6698-ac4d-4e3e-b8c3-defa9fbbc9b9"
      },
      "source": [
        "data1.tail()"
      ],
      "execution_count": null,
      "outputs": [
        {
          "output_type": "execute_result",
          "data": {
            "text/html": [
              "<div>\n",
              "<style scoped>\n",
              "    .dataframe tbody tr th:only-of-type {\n",
              "        vertical-align: middle;\n",
              "    }\n",
              "\n",
              "    .dataframe tbody tr th {\n",
              "        vertical-align: top;\n",
              "    }\n",
              "\n",
              "    .dataframe thead th {\n",
              "        text-align: right;\n",
              "    }\n",
              "</style>\n",
              "<table border=\"1\" class=\"dataframe\">\n",
              "  <thead>\n",
              "    <tr style=\"text-align: right;\">\n",
              "      <th></th>\n",
              "      <th>Product_ID</th>\n",
              "      <th>Source</th>\n",
              "      <th>Sales_Agent</th>\n",
              "      <th>Location</th>\n",
              "      <th>Delivery_Mode</th>\n",
              "      <th>Status</th>\n",
              "    </tr>\n",
              "  </thead>\n",
              "  <tbody>\n",
              "    <tr>\n",
              "      <th>7417</th>\n",
              "      <td>9.0</td>\n",
              "      <td>3</td>\n",
              "      <td>9</td>\n",
              "      <td>10</td>\n",
              "      <td>3</td>\n",
              "      <td>0</td>\n",
              "    </tr>\n",
              "    <tr>\n",
              "      <th>7418</th>\n",
              "      <td>15.0</td>\n",
              "      <td>3</td>\n",
              "      <td>4</td>\n",
              "      <td>11</td>\n",
              "      <td>4</td>\n",
              "      <td>0</td>\n",
              "    </tr>\n",
              "    <tr>\n",
              "      <th>7419</th>\n",
              "      <td>5.0</td>\n",
              "      <td>15</td>\n",
              "      <td>3</td>\n",
              "      <td>2</td>\n",
              "      <td>0</td>\n",
              "      <td>0</td>\n",
              "    </tr>\n",
              "    <tr>\n",
              "      <th>7420</th>\n",
              "      <td>21.0</td>\n",
              "      <td>2</td>\n",
              "      <td>7</td>\n",
              "      <td>11</td>\n",
              "      <td>0</td>\n",
              "      <td>0</td>\n",
              "    </tr>\n",
              "    <tr>\n",
              "      <th>7421</th>\n",
              "      <td>25.0</td>\n",
              "      <td>25</td>\n",
              "      <td>6</td>\n",
              "      <td>3</td>\n",
              "      <td>0</td>\n",
              "      <td>1</td>\n",
              "    </tr>\n",
              "  </tbody>\n",
              "</table>\n",
              "</div>"
            ],
            "text/plain": [
              "      Product_ID  Source  Sales_Agent  Location  Delivery_Mode  Status\n",
              "7417         9.0       3            9        10              3       0\n",
              "7418        15.0       3            4        11              4       0\n",
              "7419         5.0      15            3         2              0       0\n",
              "7420        21.0       2            7        11              0       0\n",
              "7421        25.0      25            6         3              0       1"
            ]
          },
          "metadata": {
            "tags": []
          },
          "execution_count": 39
        }
      ]
    },
    {
      "cell_type": "markdown",
      "metadata": {
        "id": "LXl_NG97If97"
      },
      "source": [
        "##**Split data into x and y**"
      ]
    },
    {
      "cell_type": "code",
      "metadata": {
        "id": "I5yb0q5oHkdQ"
      },
      "source": [
        "x_fea=data1.iloc[:,:-1]\n",
        "y_fea=data1[['Status']]"
      ],
      "execution_count": null,
      "outputs": []
    },
    {
      "cell_type": "markdown",
      "metadata": {
        "id": "7VxSXTNOIjfp"
      },
      "source": [
        "## **Minmax scaler is used to scale the data**"
      ]
    },
    {
      "cell_type": "code",
      "metadata": {
        "colab": {
          "base_uri": "https://localhost:8080/",
          "height": 435
        },
        "id": "uVFBww_iTDoz",
        "outputId": "3787c494-9dab-48c5-a172-b236585dc55d"
      },
      "source": [
        "from sklearn.preprocessing import MinMaxScaler\n",
        "model_max=MinMaxScaler()\n",
        "print(model_max.fit(x_fea))\n",
        "print(model_max.data_max_)\n",
        "data1=model_max.transform(x_fea)\n",
        "scaled_data=pd.DataFrame(data1, columns = x_fea.columns)\n",
        "scaled_data"
      ],
      "execution_count": null,
      "outputs": [
        {
          "output_type": "stream",
          "text": [
            "MinMaxScaler(copy=True, feature_range=(0, 1))\n",
            "[28. 25. 12. 17.  4.]\n"
          ],
          "name": "stdout"
        },
        {
          "output_type": "execute_result",
          "data": {
            "text/html": [
              "<div>\n",
              "<style scoped>\n",
              "    .dataframe tbody tr th:only-of-type {\n",
              "        vertical-align: middle;\n",
              "    }\n",
              "\n",
              "    .dataframe tbody tr th {\n",
              "        vertical-align: top;\n",
              "    }\n",
              "\n",
              "    .dataframe thead th {\n",
              "        text-align: right;\n",
              "    }\n",
              "</style>\n",
              "<table border=\"1\" class=\"dataframe\">\n",
              "  <thead>\n",
              "    <tr style=\"text-align: right;\">\n",
              "      <th></th>\n",
              "      <th>Product_ID</th>\n",
              "      <th>Source</th>\n",
              "      <th>Sales_Agent</th>\n",
              "      <th>Location</th>\n",
              "      <th>Delivery_Mode</th>\n",
              "    </tr>\n",
              "  </thead>\n",
              "  <tbody>\n",
              "    <tr>\n",
              "      <th>0</th>\n",
              "      <td>0.000000</td>\n",
              "      <td>1.00</td>\n",
              "      <td>0.250000</td>\n",
              "      <td>0.000000</td>\n",
              "      <td>1.00</td>\n",
              "    </tr>\n",
              "    <tr>\n",
              "      <th>1</th>\n",
              "      <td>0.000000</td>\n",
              "      <td>1.00</td>\n",
              "      <td>0.166667</td>\n",
              "      <td>0.000000</td>\n",
              "      <td>1.00</td>\n",
              "    </tr>\n",
              "    <tr>\n",
              "      <th>2</th>\n",
              "      <td>0.000000</td>\n",
              "      <td>1.00</td>\n",
              "      <td>0.166667</td>\n",
              "      <td>0.000000</td>\n",
              "      <td>1.00</td>\n",
              "    </tr>\n",
              "    <tr>\n",
              "      <th>3</th>\n",
              "      <td>0.000000</td>\n",
              "      <td>1.00</td>\n",
              "      <td>0.166667</td>\n",
              "      <td>0.000000</td>\n",
              "      <td>1.00</td>\n",
              "    </tr>\n",
              "    <tr>\n",
              "      <th>4</th>\n",
              "      <td>0.000000</td>\n",
              "      <td>1.00</td>\n",
              "      <td>0.166667</td>\n",
              "      <td>0.000000</td>\n",
              "      <td>1.00</td>\n",
              "    </tr>\n",
              "    <tr>\n",
              "      <th>...</th>\n",
              "      <td>...</td>\n",
              "      <td>...</td>\n",
              "      <td>...</td>\n",
              "      <td>...</td>\n",
              "      <td>...</td>\n",
              "    </tr>\n",
              "    <tr>\n",
              "      <th>7417</th>\n",
              "      <td>0.321429</td>\n",
              "      <td>0.12</td>\n",
              "      <td>0.750000</td>\n",
              "      <td>0.588235</td>\n",
              "      <td>0.75</td>\n",
              "    </tr>\n",
              "    <tr>\n",
              "      <th>7418</th>\n",
              "      <td>0.535714</td>\n",
              "      <td>0.12</td>\n",
              "      <td>0.333333</td>\n",
              "      <td>0.647059</td>\n",
              "      <td>1.00</td>\n",
              "    </tr>\n",
              "    <tr>\n",
              "      <th>7419</th>\n",
              "      <td>0.178571</td>\n",
              "      <td>0.60</td>\n",
              "      <td>0.250000</td>\n",
              "      <td>0.117647</td>\n",
              "      <td>0.00</td>\n",
              "    </tr>\n",
              "    <tr>\n",
              "      <th>7420</th>\n",
              "      <td>0.750000</td>\n",
              "      <td>0.08</td>\n",
              "      <td>0.583333</td>\n",
              "      <td>0.647059</td>\n",
              "      <td>0.00</td>\n",
              "    </tr>\n",
              "    <tr>\n",
              "      <th>7421</th>\n",
              "      <td>0.892857</td>\n",
              "      <td>1.00</td>\n",
              "      <td>0.500000</td>\n",
              "      <td>0.176471</td>\n",
              "      <td>0.00</td>\n",
              "    </tr>\n",
              "  </tbody>\n",
              "</table>\n",
              "<p>7422 rows × 5 columns</p>\n",
              "</div>"
            ],
            "text/plain": [
              "      Product_ID  Source  Sales_Agent  Location  Delivery_Mode\n",
              "0       0.000000    1.00     0.250000  0.000000           1.00\n",
              "1       0.000000    1.00     0.166667  0.000000           1.00\n",
              "2       0.000000    1.00     0.166667  0.000000           1.00\n",
              "3       0.000000    1.00     0.166667  0.000000           1.00\n",
              "4       0.000000    1.00     0.166667  0.000000           1.00\n",
              "...          ...     ...          ...       ...            ...\n",
              "7417    0.321429    0.12     0.750000  0.588235           0.75\n",
              "7418    0.535714    0.12     0.333333  0.647059           1.00\n",
              "7419    0.178571    0.60     0.250000  0.117647           0.00\n",
              "7420    0.750000    0.08     0.583333  0.647059           0.00\n",
              "7421    0.892857    1.00     0.500000  0.176471           0.00\n",
              "\n",
              "[7422 rows x 5 columns]"
            ]
          },
          "metadata": {
            "tags": []
          },
          "execution_count": 44
        }
      ]
    },
    {
      "cell_type": "code",
      "metadata": {
        "id": "LOgdkFUGT2zy"
      },
      "source": [
        "X=scaled_data\n",
        "Y=y_fea"
      ],
      "execution_count": null,
      "outputs": []
    },
    {
      "cell_type": "markdown",
      "metadata": {
        "id": "xoxGSyFdIpVl"
      },
      "source": [
        "##**Train_test_split is used to split the data into train and test**"
      ]
    },
    {
      "cell_type": "code",
      "metadata": {
        "colab": {
          "base_uri": "https://localhost:8080/"
        },
        "id": "yTq1q4w1JU2A",
        "outputId": "c6d4b44d-a038-4dfd-fcc6-9b27cb56b4fa"
      },
      "source": [
        "#import model to test the model\n",
        "from sklearn.model_selection import train_test_split\n",
        "x_train, x_test, y_train, y_test = train_test_split(X, Y, test_size=0.33, random_state=42)\n",
        "x_train.shape, x_test.shape, y_test.shape,y_train.shape"
      ],
      "execution_count": null,
      "outputs": [
        {
          "output_type": "execute_result",
          "data": {
            "text/plain": [
              "((4972, 5), (2450, 5), (2450, 1), (4972, 1))"
            ]
          },
          "metadata": {
            "tags": []
          },
          "execution_count": 46
        }
      ]
    },
    {
      "cell_type": "markdown",
      "metadata": {
        "id": "cN9xFS8UI1a4"
      },
      "source": [
        "#**Model Selection**"
      ]
    },
    {
      "cell_type": "markdown",
      "metadata": {
        "id": "66s5WWmXjRT2"
      },
      "source": [
        "**XGB**\n"
      ]
    },
    {
      "cell_type": "code",
      "metadata": {
        "colab": {
          "base_uri": "https://localhost:8080/"
        },
        "id": "cZjKomqiKbAz",
        "outputId": "5addf2c6-821c-4745-a9a6-71809f3a56ca"
      },
      "source": [
        "from xgboost import XGBClassifier\n",
        "model_xgb=XGBClassifier()\n",
        "model_xgb.fit(x_train,y_train)\n",
        "xgb_predict=model_xgb.predict(x_test)\n",
        "from sklearn.metrics import accuracy_score ,recall_score, precision_score,f1_score,confusion_matrix,classification_report\n",
        "print('accuracy score :\\n',accuracy_score(y_true=y_test,y_pred=xgb_predict))\n",
        "print(classification_report(y_test,xgb_predict))\n"
      ],
      "execution_count": null,
      "outputs": [
        {
          "output_type": "stream",
          "text": [
            "accuracy score :\n",
            " 0.7171428571428572\n",
            "              precision    recall  f1-score   support\n",
            "\n",
            "           0       0.73      0.85      0.78      1462\n",
            "           1       0.70      0.52      0.60       981\n",
            "           2       0.00      0.00      0.00         7\n",
            "\n",
            "    accuracy                           0.72      2450\n",
            "   macro avg       0.47      0.46      0.46      2450\n",
            "weighted avg       0.71      0.72      0.71      2450\n",
            "\n"
          ],
          "name": "stdout"
        }
      ]
    },
    {
      "cell_type": "markdown",
      "metadata": {
        "id": "iCEn63H3jbZe"
      },
      "source": [
        "**SVM**"
      ]
    },
    {
      "cell_type": "code",
      "metadata": {
        "colab": {
          "base_uri": "https://localhost:8080/"
        },
        "id": "gD6afrMrLDUJ",
        "outputId": "bb6084ac-34ca-419d-ba82-54288f287901"
      },
      "source": [
        "from sklearn import svm\n",
        "model_svm = svm.SVC()\n",
        "model_svm.fit(x_train, y_train)\n",
        "svm_predict=model_svm.predict(x_test)\n",
        "from sklearn.metrics import accuracy_score ,recall_score, precision_score,f1_score,confusion_matrix,classification_report\n",
        "print('accuracy score :\\n',accuracy_score(y_true=y_test,y_pred=svm_predict))\n",
        "print(classification_report(y_test,svm_predict))"
      ],
      "execution_count": null,
      "outputs": [
        {
          "output_type": "stream",
          "text": [
            "accuracy score :\n",
            " 0.6853061224489796\n",
            "              precision    recall  f1-score   support\n",
            "\n",
            "           0       0.69      0.87      0.77      1462\n",
            "           1       0.67      0.42      0.52       981\n",
            "           2       0.00      0.00      0.00         7\n",
            "\n",
            "    accuracy                           0.69      2450\n",
            "   macro avg       0.45      0.43      0.43      2450\n",
            "weighted avg       0.68      0.69      0.67      2450\n",
            "\n"
          ],
          "name": "stdout"
        }
      ]
    },
    {
      "cell_type": "markdown",
      "metadata": {
        "id": "iWnA3_C5jd2A"
      },
      "source": [
        "**SGD**"
      ]
    },
    {
      "cell_type": "code",
      "metadata": {
        "colab": {
          "base_uri": "https://localhost:8080/"
        },
        "id": "lXeNOQRhZs2W",
        "outputId": "dfa7acab-c758-48be-e33c-addb3d017fd3"
      },
      "source": [
        "from sklearn.linear_model import SGDClassifier\n",
        "model_sgd=SGDClassifier()\n",
        "model_sgd.fit(x_train,y_train)\n",
        "sgd_predict=model_sgd.predict(x_test)\n",
        "from sklearn.metrics import accuracy_score ,recall_score, precision_score,f1_score,confusion_matrix,classification_report\n",
        "print('accuracy score :\\n',accuracy_score(y_true=y_test,y_pred=sgd_predict))\n",
        "print(classification_report(y_test,sgd_predict))"
      ],
      "execution_count": null,
      "outputs": [
        {
          "output_type": "stream",
          "text": [
            "accuracy score :\n",
            " 0.6685714285714286\n",
            "              precision    recall  f1-score   support\n",
            "\n",
            "           0       0.76      0.66      0.70      1462\n",
            "           1       0.57      0.69      0.62       981\n",
            "           2       0.00      0.00      0.00         7\n",
            "\n",
            "    accuracy                           0.67      2450\n",
            "   macro avg       0.44      0.45      0.44      2450\n",
            "weighted avg       0.68      0.67      0.67      2450\n",
            "\n"
          ],
          "name": "stdout"
        }
      ]
    },
    {
      "cell_type": "markdown",
      "metadata": {
        "id": "5czDen6EjgcV"
      },
      "source": [
        "**RandomForest**"
      ]
    },
    {
      "cell_type": "code",
      "metadata": {
        "colab": {
          "base_uri": "https://localhost:8080/"
        },
        "id": "scRGYC85aapE",
        "outputId": "954a95af-f51b-487e-cbb6-f4414ddb73cb"
      },
      "source": [
        "from sklearn.ensemble import RandomForestClassifier\n",
        "model_RF=RandomForestClassifier()\n",
        "model_RF.fit(x_train,y_train)\n",
        "RF_predict=model_RF.predict(x_test)\n",
        "from sklearn.metrics import accuracy_score ,recall_score, precision_score,f1_score,confusion_matrix,classification_report\n",
        "print('accuracy score :\\n',accuracy_score(y_true=y_test,y_pred=RF_predict))\n",
        "print(classification_report(y_test,RF_predict))\n"
      ],
      "execution_count": null,
      "outputs": [
        {
          "output_type": "stream",
          "text": [
            "accuracy score :\n",
            " 0.6746938775510204\n",
            "              precision    recall  f1-score   support\n",
            "\n",
            "           0       0.71      0.77      0.74      1462\n",
            "           1       0.61      0.54      0.57       981\n",
            "           2       0.00      0.00      0.00         7\n",
            "\n",
            "    accuracy                           0.67      2450\n",
            "   macro avg       0.44      0.44      0.44      2450\n",
            "weighted avg       0.67      0.67      0.67      2450\n",
            "\n"
          ],
          "name": "stdout"
        }
      ]
    },
    {
      "cell_type": "markdown",
      "metadata": {
        "id": "NZ7kjPSwjjxf"
      },
      "source": [
        "**LGB**"
      ]
    },
    {
      "cell_type": "code",
      "metadata": {
        "colab": {
          "base_uri": "https://localhost:8080/"
        },
        "id": "uD0wsVcharo3",
        "outputId": "1ce25afa-e0ee-413b-c773-30332c3cec79"
      },
      "source": [
        "import lightgbm as lgb\n",
        "model_lgb=lgb.LGBMClassifier()\n",
        "model_lgb.fit(x_train,y_train)\n",
        "lgb_predict=model_lgb.predict(x_test)\n",
        "from sklearn.metrics import accuracy_score ,recall_score, precision_score,f1_score,confusion_matrix,classification_report \n",
        "print('accuracy score :\\n',accuracy_score(y_true=y_test,y_pred=lgb_predict))\n",
        "print(classification_report(y_test,lgb_predict))"
      ],
      "execution_count": null,
      "outputs": [
        {
          "output_type": "stream",
          "text": [
            "accuracy score :\n",
            " 0.7073469387755102\n",
            "              precision    recall  f1-score   support\n",
            "\n",
            "           0       0.73      0.82      0.77      1462\n",
            "           1       0.67      0.54      0.60       981\n",
            "           2       0.00      0.00      0.00         7\n",
            "\n",
            "    accuracy                           0.71      2450\n",
            "   macro avg       0.46      0.45      0.46      2450\n",
            "weighted avg       0.70      0.71      0.70      2450\n",
            "\n"
          ],
          "name": "stdout"
        }
      ]
    },
    {
      "cell_type": "markdown",
      "metadata": {
        "id": "rT8ekdltjmI_"
      },
      "source": [
        "**Decision Tree**"
      ]
    },
    {
      "cell_type": "code",
      "metadata": {
        "colab": {
          "base_uri": "https://localhost:8080/"
        },
        "id": "cR1AUD-Ca_Ll",
        "outputId": "8488a406-d928-4d50-b8b3-b91ce8f64334"
      },
      "source": [
        "from sklearn.tree import DecisionTreeClassifier\n",
        "model_DT= DecisionTreeClassifier()\n",
        "model_DT.fit(x_train,y_train)\n",
        "DT_predict=model_DT.predict(x_test)\n",
        "from sklearn.metrics import accuracy_score ,recall_score, precision_score,f1_score,confusion_matrix,classification_report\n",
        "print('accuracy score :\\n',accuracy_score(y_true=y_test,y_pred=DT_predict))\n",
        "print(classification_report(y_test,DT_predict))"
      ],
      "execution_count": null,
      "outputs": [
        {
          "output_type": "stream",
          "text": [
            "accuracy score :\n",
            " 0.6755102040816326\n",
            "              precision    recall  f1-score   support\n",
            "\n",
            "           0       0.71      0.78      0.74      1462\n",
            "           1       0.62      0.52      0.56       981\n",
            "           2       0.25      0.29      0.27         7\n",
            "\n",
            "    accuracy                           0.68      2450\n",
            "   macro avg       0.52      0.53      0.52      2450\n",
            "weighted avg       0.67      0.68      0.67      2450\n",
            "\n"
          ],
          "name": "stdout"
        }
      ]
    },
    {
      "cell_type": "markdown",
      "metadata": {
        "id": "PSL2_dfjjo7D"
      },
      "source": [
        "**Logistic**"
      ]
    },
    {
      "cell_type": "code",
      "metadata": {
        "colab": {
          "base_uri": "https://localhost:8080/"
        },
        "id": "sdJOpLpDbPlA",
        "outputId": "99449d39-4a4e-4f67-b449-e45c73157c19"
      },
      "source": [
        "from sklearn.linear_model import LogisticRegression\n",
        "model_log=LogisticRegression()\n",
        "model_log.fit(x_train,y_train)\n",
        "log_predict=model_log.predict(x_test)\n",
        "from sklearn.metrics import accuracy_score ,recall_score, precision_score,f1_score,confusion_matrix,classification_report\n",
        "print('accuracy score :\\n',accuracy_score(y_true=y_test,y_pred=log_predict))\n",
        "print(classification_report(y_test,log_predict))"
      ],
      "execution_count": null,
      "outputs": [
        {
          "output_type": "stream",
          "text": [
            "accuracy score :\n",
            " 0.673469387755102\n",
            "              precision    recall  f1-score   support\n",
            "\n",
            "           0       0.70      0.79      0.74      1462\n",
            "           1       0.61      0.50      0.55       981\n",
            "           2       0.00      0.00      0.00         7\n",
            "\n",
            "    accuracy                           0.67      2450\n",
            "   macro avg       0.44      0.43      0.43      2450\n",
            "weighted avg       0.66      0.67      0.67      2450\n",
            "\n"
          ],
          "name": "stdout"
        }
      ]
    },
    {
      "cell_type": "markdown",
      "metadata": {
        "id": "ofjUqaXQjrqz"
      },
      "source": [
        "**KNN**"
      ]
    },
    {
      "cell_type": "code",
      "metadata": {
        "colab": {
          "base_uri": "https://localhost:8080/"
        },
        "id": "eQVxNCvqbkRK",
        "outputId": "263bdbbf-3a99-4d7b-e4a9-947ee8587498"
      },
      "source": [
        "from sklearn.neighbors import KNeighborsClassifier\n",
        "model_KNN = KNeighborsClassifier(algorithm='brute', leaf_size=30, metric='minkowski',\n",
        "                     metric_params=None, n_jobs=1, n_neighbors=2, p=1,\n",
        "                     weights='uniform')\n",
        "model_KNN.fit(x_train,y_train)\n",
        "KNN_predict=model_KNN.predict(x_test)\n",
        "from sklearn.metrics import accuracy_score ,recall_score, precision_score,f1_score,confusion_matrix,classification_report\n",
        "print('accuracy score :\\n',accuracy_score(y_true=y_test,y_pred=KNN_predict))\n",
        "print(classification_report(y_test,KNN_predict))"
      ],
      "execution_count": null,
      "outputs": [
        {
          "output_type": "stream",
          "text": [
            "accuracy score :\n",
            " 0.6653061224489796\n",
            "              precision    recall  f1-score   support\n",
            "\n",
            "           0       0.67      0.87      0.76      1462\n",
            "           1       0.66      0.36      0.46       981\n",
            "           2       0.00      0.00      0.00         7\n",
            "\n",
            "    accuracy                           0.67      2450\n",
            "   macro avg       0.44      0.41      0.41      2450\n",
            "weighted avg       0.66      0.67      0.64      2450\n",
            "\n"
          ],
          "name": "stdout"
        }
      ]
    },
    {
      "cell_type": "markdown",
      "metadata": {
        "id": "cNsGJVDfjuGY"
      },
      "source": [
        "**Adaboost**"
      ]
    },
    {
      "cell_type": "code",
      "metadata": {
        "colab": {
          "base_uri": "https://localhost:8080/"
        },
        "id": "qC2r80Lnbujo",
        "outputId": "dd0f94e6-e733-4f3a-ff74-a7e641967298"
      },
      "source": [
        "from sklearn.ensemble import  AdaBoostClassifier\n",
        "model_ab=AdaBoostClassifier()\n",
        "model_ab.fit(x_train,y_train)\n",
        "ab_predict=model_ab.predict(x_test)\n",
        "from sklearn.metrics import accuracy_score ,recall_score, precision_score,f1_score,confusion_matrix,classification_report\n",
        "print('accuracy score :\\n',accuracy_score(y_true=y_test,y_pred=ab_predict))\n",
        "print(classification_report(y_test,ab_predict))"
      ],
      "execution_count": null,
      "outputs": [
        {
          "output_type": "stream",
          "text": [
            "accuracy score :\n",
            " 0.6861224489795918\n",
            "              precision    recall  f1-score   support\n",
            "\n",
            "           0       0.70      0.83      0.76      1462\n",
            "           1       0.65      0.48      0.55       981\n",
            "           2       0.00      0.00      0.00         7\n",
            "\n",
            "    accuracy                           0.69      2450\n",
            "   macro avg       0.45      0.44      0.44      2450\n",
            "weighted avg       0.68      0.69      0.67      2450\n",
            "\n"
          ],
          "name": "stdout"
        }
      ]
    },
    {
      "cell_type": "markdown",
      "metadata": {
        "id": "ro2ex0Utjx5v"
      },
      "source": [
        "**Gradient Boosting**"
      ]
    },
    {
      "cell_type": "code",
      "metadata": {
        "colab": {
          "base_uri": "https://localhost:8080/"
        },
        "id": "1ZzK33WUcA6N",
        "outputId": "7d35fa79-d5fd-445e-e3d8-cf271794c7ba"
      },
      "source": [
        "from sklearn.ensemble import  GradientBoostingClassifier\n",
        "model_gb=GradientBoostingClassifier()\n",
        "model_gb.fit(x_train,y_train)\n",
        "gb_predict=model_gb.predict(x_test)\n",
        "from sklearn.metrics import accuracy_score ,recall_score, precision_score,f1_score,confusion_matrix,classification_report\n",
        "print('accuracy score :\\n',accuracy_score(y_true=y_test,y_pred=gb_predict))\n",
        "print(classification_report(y_test,gb_predict))"
      ],
      "execution_count": null,
      "outputs": [
        {
          "output_type": "stream",
          "text": [
            "accuracy score :\n",
            " 0.7208163265306122\n",
            "              precision    recall  f1-score   support\n",
            "\n",
            "           0       0.73      0.85      0.79      1462\n",
            "           1       0.70      0.54      0.61       981\n",
            "           2       0.00      0.00      0.00         7\n",
            "\n",
            "    accuracy                           0.72      2450\n",
            "   macro avg       0.48      0.46      0.46      2450\n",
            "weighted avg       0.72      0.72      0.71      2450\n",
            "\n"
          ],
          "name": "stdout"
        }
      ]
    },
    {
      "cell_type": "markdown",
      "metadata": {
        "id": "ci6uJGDXj2Eu"
      },
      "source": [
        "**Naive Bayes**"
      ]
    },
    {
      "cell_type": "code",
      "metadata": {
        "colab": {
          "base_uri": "https://localhost:8080/"
        },
        "id": "GPMLRxsQcULE",
        "outputId": "ac5f0a7b-c4c7-4198-a914-d3968aacea07"
      },
      "source": [
        "from sklearn.naive_bayes import GaussianNB\n",
        "model=GaussianNB()\n",
        "model.fit(x_train,y_train)\n",
        "NB_predict=model.predict(x_test)\n",
        "from sklearn.metrics import accuracy_score ,recall_score, precision_score,f1_score,confusion_matrix,classification_report\n",
        "print('accuracy score :\\n',accuracy_score(y_true=y_test,y_pred=NB_predict))\n",
        "print(classification_report(y_test,NB_predict))"
      ],
      "execution_count": null,
      "outputs": [
        {
          "output_type": "stream",
          "text": [
            "accuracy score :\n",
            " 0.6714285714285714\n",
            "              precision    recall  f1-score   support\n",
            "\n",
            "           0       0.71      0.77      0.74      1462\n",
            "           1       0.60      0.53      0.56       981\n",
            "           2       0.00      0.00      0.00         7\n",
            "\n",
            "    accuracy                           0.67      2450\n",
            "   macro avg       0.44      0.43      0.43      2450\n",
            "weighted avg       0.66      0.67      0.67      2450\n",
            "\n"
          ],
          "name": "stdout"
        }
      ]
    },
    {
      "cell_type": "code",
      "metadata": {
        "colab": {
          "base_uri": "https://localhost:8080/"
        },
        "id": "5Y8naI5ZqgZk",
        "outputId": "e5a4e1ba-d9b1-4f3d-a4da-ad847c5aed93"
      },
      "source": [
        "X.shape"
      ],
      "execution_count": null,
      "outputs": [
        {
          "output_type": "execute_result",
          "data": {
            "text/plain": [
              "(7422, 5)"
            ]
          },
          "metadata": {
            "tags": []
          },
          "execution_count": 729
        }
      ]
    },
    {
      "cell_type": "markdown",
      "metadata": {
        "id": "P0g6SUrdj6YN"
      },
      "source": [
        "**ANN**"
      ]
    },
    {
      "cell_type": "code",
      "metadata": {
        "id": "wXPvt8Uolk9P"
      },
      "source": [
        "#importing the model\n",
        "from keras.models import Sequential\n",
        "from keras.layers import Dense # To get layers\n",
        "model=Sequential()# intialising the model"
      ],
      "execution_count": null,
      "outputs": []
    },
    {
      "cell_type": "code",
      "metadata": {
        "id": "iqn51cGWlpA5"
      },
      "source": [
        "model.add(Dense(units=12,input_dim=6, activation ='relu'))# first layer\n",
        "model.add(Dense(units=12,activation='relu'))  # second layer or hidden layer\n",
        "model.add(Dense(units=12,activation='relu'))  # second layer or hidden layer\n",
        "model.add(Dense(units=1,activation='sigmoid'))#last layer or output layer"
      ],
      "execution_count": null,
      "outputs": []
    },
    {
      "cell_type": "code",
      "metadata": {
        "id": "wMeV9HcOlrF_"
      },
      "source": [
        "#compiling the model\n",
        "model.compile(loss='binary_crossentropy',optimizer='adam',metrics=['accuracy'])"
      ],
      "execution_count": null,
      "outputs": []
    },
    {
      "cell_type": "code",
      "metadata": {
        "colab": {
          "base_uri": "https://localhost:8080/"
        },
        "id": "v-tp1stxwEC7",
        "outputId": "1e813ba3-d3e8-4d97-9c5e-1577c07dd885"
      },
      "source": [
        "model.fit(x_train,y_train,batch_size=10,epochs=100, verbose=1)"
      ],
      "execution_count": null,
      "outputs": [
        {
          "output_type": "stream",
          "text": [
            "Epoch 1/100\n",
            "498/498 [==============================] - 3s 3ms/step - loss: 0.6774 - accuracy: 0.6057\n",
            "Epoch 2/100\n",
            "498/498 [==============================] - 1s 3ms/step - loss: 0.6690 - accuracy: 0.6120\n",
            "Epoch 3/100\n",
            "498/498 [==============================] - 1s 3ms/step - loss: 0.6699 - accuracy: 0.6098\n",
            "Epoch 4/100\n",
            "498/498 [==============================] - 1s 2ms/step - loss: 0.6696 - accuracy: 0.6108\n",
            "Epoch 5/100\n",
            "498/498 [==============================] - 1s 3ms/step - loss: 0.6690 - accuracy: 0.6129\n",
            "Epoch 6/100\n",
            "498/498 [==============================] - 1s 3ms/step - loss: 0.6709 - accuracy: 0.6077\n",
            "Epoch 7/100\n",
            "498/498 [==============================] - 1s 3ms/step - loss: 0.6679 - accuracy: 0.6151\n",
            "Epoch 8/100\n",
            "498/498 [==============================] - 1s 3ms/step - loss: 0.6748 - accuracy: 0.6002\n",
            "Epoch 9/100\n",
            "498/498 [==============================] - 1s 3ms/step - loss: 0.6713 - accuracy: 0.6083\n",
            "Epoch 10/100\n",
            "498/498 [==============================] - 1s 3ms/step - loss: 0.6721 - accuracy: 0.6053\n",
            "Epoch 11/100\n",
            "498/498 [==============================] - 1s 3ms/step - loss: 0.6702 - accuracy: 0.6102\n",
            "Epoch 12/100\n",
            "498/498 [==============================] - 1s 3ms/step - loss: 0.6744 - accuracy: 0.6009\n",
            "Epoch 13/100\n",
            "498/498 [==============================] - 1s 2ms/step - loss: 0.6729 - accuracy: 0.6034\n",
            "Epoch 14/100\n",
            "498/498 [==============================] - 1s 3ms/step - loss: 0.6678 - accuracy: 0.6149\n",
            "Epoch 15/100\n",
            "498/498 [==============================] - 1s 3ms/step - loss: 0.6692 - accuracy: 0.6134\n",
            "Epoch 16/100\n",
            "498/498 [==============================] - 1s 3ms/step - loss: 0.6674 - accuracy: 0.6162\n",
            "Epoch 17/100\n",
            "498/498 [==============================] - 1s 3ms/step - loss: 0.6707 - accuracy: 0.6082\n",
            "Epoch 18/100\n",
            "498/498 [==============================] - 1s 3ms/step - loss: 0.6702 - accuracy: 0.6089\n",
            "Epoch 19/100\n",
            "498/498 [==============================] - 1s 3ms/step - loss: 0.6720 - accuracy: 0.6050\n",
            "Epoch 20/100\n",
            "498/498 [==============================] - 1s 3ms/step - loss: 0.6729 - accuracy: 0.6023\n",
            "Epoch 21/100\n",
            "498/498 [==============================] - 1s 3ms/step - loss: 0.6722 - accuracy: 0.6048\n",
            "Epoch 22/100\n",
            "498/498 [==============================] - 1s 3ms/step - loss: 0.6716 - accuracy: 0.6067\n",
            "Epoch 23/100\n",
            "498/498 [==============================] - 1s 2ms/step - loss: 0.6696 - accuracy: 0.6104\n",
            "Epoch 24/100\n",
            "498/498 [==============================] - 1s 2ms/step - loss: 0.6700 - accuracy: 0.6109\n",
            "Epoch 25/100\n",
            "498/498 [==============================] - 1s 3ms/step - loss: 0.6722 - accuracy: 0.6048\n",
            "Epoch 26/100\n",
            "498/498 [==============================] - 1s 3ms/step - loss: 0.6771 - accuracy: 0.5934\n",
            "Epoch 27/100\n",
            "498/498 [==============================] - 1s 3ms/step - loss: 0.6721 - accuracy: 0.6063\n",
            "Epoch 28/100\n",
            "498/498 [==============================] - 1s 3ms/step - loss: 0.6679 - accuracy: 0.6150\n",
            "Epoch 29/100\n",
            "498/498 [==============================] - 1s 3ms/step - loss: 0.6747 - accuracy: 0.5988\n",
            "Epoch 30/100\n",
            "498/498 [==============================] - 1s 3ms/step - loss: 0.6702 - accuracy: 0.6094\n",
            "Epoch 31/100\n",
            "498/498 [==============================] - 1s 3ms/step - loss: 0.6703 - accuracy: 0.6097\n",
            "Epoch 32/100\n",
            "498/498 [==============================] - 1s 3ms/step - loss: 0.6732 - accuracy: 0.6049\n",
            "Epoch 33/100\n",
            "498/498 [==============================] - 1s 3ms/step - loss: 0.6665 - accuracy: 0.6176\n",
            "Epoch 34/100\n",
            "498/498 [==============================] - 1s 3ms/step - loss: 0.6702 - accuracy: 0.6097\n",
            "Epoch 35/100\n",
            "498/498 [==============================] - 1s 3ms/step - loss: 0.6648 - accuracy: 0.6219\n",
            "Epoch 36/100\n",
            "498/498 [==============================] - 1s 3ms/step - loss: 0.6686 - accuracy: 0.6129\n",
            "Epoch 37/100\n",
            "498/498 [==============================] - 1s 3ms/step - loss: 0.6724 - accuracy: 0.6046\n",
            "Epoch 38/100\n",
            "498/498 [==============================] - 1s 3ms/step - loss: 0.6692 - accuracy: 0.6120\n",
            "Epoch 39/100\n",
            "498/498 [==============================] - 1s 3ms/step - loss: 0.6675 - accuracy: 0.6157\n",
            "Epoch 40/100\n",
            "498/498 [==============================] - 1s 3ms/step - loss: 0.6727 - accuracy: 0.6039\n",
            "Epoch 41/100\n",
            "498/498 [==============================] - 1s 3ms/step - loss: 0.6725 - accuracy: 0.6050\n",
            "Epoch 42/100\n",
            "498/498 [==============================] - 1s 3ms/step - loss: 0.6739 - accuracy: 0.6006\n",
            "Epoch 43/100\n",
            "498/498 [==============================] - 1s 3ms/step - loss: 0.6706 - accuracy: 0.6095\n",
            "Epoch 44/100\n",
            "498/498 [==============================] - 1s 3ms/step - loss: 0.6699 - accuracy: 0.6100\n",
            "Epoch 45/100\n",
            "498/498 [==============================] - 1s 3ms/step - loss: 0.6704 - accuracy: 0.6079\n",
            "Epoch 46/100\n",
            "498/498 [==============================] - 1s 3ms/step - loss: 0.6699 - accuracy: 0.6105\n",
            "Epoch 47/100\n",
            "498/498 [==============================] - 1s 3ms/step - loss: 0.6753 - accuracy: 0.5983\n",
            "Epoch 48/100\n",
            "498/498 [==============================] - 1s 3ms/step - loss: 0.6648 - accuracy: 0.6210\n",
            "Epoch 49/100\n",
            "498/498 [==============================] - 1s 3ms/step - loss: 0.6750 - accuracy: 0.5984\n",
            "Epoch 50/100\n",
            "498/498 [==============================] - 1s 3ms/step - loss: 0.6699 - accuracy: 0.6113\n",
            "Epoch 51/100\n",
            "498/498 [==============================] - 1s 3ms/step - loss: 0.6762 - accuracy: 0.5954\n",
            "Epoch 52/100\n",
            "498/498 [==============================] - 1s 3ms/step - loss: 0.6717 - accuracy: 0.6059\n",
            "Epoch 53/100\n",
            "498/498 [==============================] - 1s 3ms/step - loss: 0.6713 - accuracy: 0.6085\n",
            "Epoch 54/100\n",
            "498/498 [==============================] - 1s 3ms/step - loss: 0.6699 - accuracy: 0.6105\n",
            "Epoch 55/100\n",
            "498/498 [==============================] - 1s 3ms/step - loss: 0.6680 - accuracy: 0.6139\n",
            "Epoch 56/100\n",
            "498/498 [==============================] - 1s 3ms/step - loss: 0.6698 - accuracy: 0.6108\n",
            "Epoch 57/100\n",
            "498/498 [==============================] - 1s 3ms/step - loss: 0.6657 - accuracy: 0.6192\n",
            "Epoch 58/100\n",
            "498/498 [==============================] - 1s 3ms/step - loss: 0.6726 - accuracy: 0.6040\n",
            "Epoch 59/100\n",
            "498/498 [==============================] - 1s 3ms/step - loss: 0.6688 - accuracy: 0.6119\n",
            "Epoch 60/100\n",
            "498/498 [==============================] - 1s 3ms/step - loss: 0.6752 - accuracy: 0.5961\n",
            "Epoch 61/100\n",
            "498/498 [==============================] - 1s 3ms/step - loss: 0.6728 - accuracy: 0.6029\n",
            "Epoch 62/100\n",
            "498/498 [==============================] - 1s 3ms/step - loss: 0.6705 - accuracy: 0.6088\n",
            "Epoch 63/100\n",
            "498/498 [==============================] - 1s 3ms/step - loss: 0.6734 - accuracy: 0.6014\n",
            "Epoch 64/100\n",
            "498/498 [==============================] - 1s 3ms/step - loss: 0.6696 - accuracy: 0.6114\n",
            "Epoch 65/100\n",
            "498/498 [==============================] - 1s 3ms/step - loss: 0.6738 - accuracy: 0.6009\n",
            "Epoch 66/100\n",
            "498/498 [==============================] - 1s 3ms/step - loss: 0.6725 - accuracy: 0.6045\n",
            "Epoch 67/100\n",
            "498/498 [==============================] - 1s 3ms/step - loss: 0.6731 - accuracy: 0.6027\n",
            "Epoch 68/100\n",
            "498/498 [==============================] - 1s 3ms/step - loss: 0.6598 - accuracy: 0.6311\n",
            "Epoch 69/100\n",
            "498/498 [==============================] - 1s 3ms/step - loss: 0.6699 - accuracy: 0.6108\n",
            "Epoch 70/100\n",
            "498/498 [==============================] - 1s 3ms/step - loss: 0.6703 - accuracy: 0.6085\n",
            "Epoch 71/100\n",
            "498/498 [==============================] - 1s 3ms/step - loss: 0.6682 - accuracy: 0.6141\n",
            "Epoch 72/100\n",
            "498/498 [==============================] - 1s 3ms/step - loss: 0.6649 - accuracy: 0.6206\n",
            "Epoch 73/100\n",
            "498/498 [==============================] - 1s 3ms/step - loss: 0.6695 - accuracy: 0.6103\n",
            "Epoch 74/100\n",
            "498/498 [==============================] - 1s 3ms/step - loss: 0.6700 - accuracy: 0.6100\n",
            "Epoch 75/100\n",
            "498/498 [==============================] - 1s 3ms/step - loss: 0.6703 - accuracy: 0.6095\n",
            "Epoch 76/100\n",
            "498/498 [==============================] - 1s 3ms/step - loss: 0.6719 - accuracy: 0.6070\n",
            "Epoch 77/100\n",
            "498/498 [==============================] - 1s 3ms/step - loss: 0.6668 - accuracy: 0.6162\n",
            "Epoch 78/100\n",
            "498/498 [==============================] - 1s 3ms/step - loss: 0.6681 - accuracy: 0.6136\n",
            "Epoch 79/100\n",
            "498/498 [==============================] - 1s 3ms/step - loss: 0.6670 - accuracy: 0.6162\n",
            "Epoch 80/100\n",
            "498/498 [==============================] - 1s 3ms/step - loss: 0.6711 - accuracy: 0.6063\n",
            "Epoch 81/100\n",
            "498/498 [==============================] - 1s 3ms/step - loss: 0.6704 - accuracy: 0.6078\n",
            "Epoch 82/100\n",
            "498/498 [==============================] - 1s 3ms/step - loss: 0.6731 - accuracy: 0.6030\n",
            "Epoch 83/100\n",
            "498/498 [==============================] - 1s 3ms/step - loss: 0.6698 - accuracy: 0.6100\n",
            "Epoch 84/100\n",
            "498/498 [==============================] - 1s 3ms/step - loss: 0.6711 - accuracy: 0.6075\n",
            "Epoch 85/100\n",
            "498/498 [==============================] - 1s 3ms/step - loss: 0.6717 - accuracy: 0.6060\n",
            "Epoch 86/100\n",
            "498/498 [==============================] - 1s 3ms/step - loss: 0.6667 - accuracy: 0.6169\n",
            "Epoch 87/100\n",
            "498/498 [==============================] - 1s 3ms/step - loss: 0.6734 - accuracy: 0.6013\n",
            "Epoch 88/100\n",
            "498/498 [==============================] - 1s 3ms/step - loss: 0.6621 - accuracy: 0.6265\n",
            "Epoch 89/100\n",
            "498/498 [==============================] - 1s 3ms/step - loss: 0.6744 - accuracy: 0.5997\n",
            "Epoch 90/100\n",
            "498/498 [==============================] - 1s 3ms/step - loss: 0.6632 - accuracy: 0.6244\n",
            "Epoch 91/100\n",
            "498/498 [==============================] - 1s 3ms/step - loss: 0.6694 - accuracy: 0.6108\n",
            "Epoch 92/100\n",
            "498/498 [==============================] - 1s 3ms/step - loss: 0.6715 - accuracy: 0.6066\n",
            "Epoch 93/100\n",
            "498/498 [==============================] - 1s 3ms/step - loss: 0.6696 - accuracy: 0.6099\n",
            "Epoch 94/100\n",
            "498/498 [==============================] - 1s 3ms/step - loss: 0.6685 - accuracy: 0.6128\n",
            "Epoch 95/100\n",
            "498/498 [==============================] - 1s 3ms/step - loss: 0.6694 - accuracy: 0.6115\n",
            "Epoch 96/100\n",
            "498/498 [==============================] - 1s 3ms/step - loss: 0.6681 - accuracy: 0.6140\n",
            "Epoch 97/100\n",
            "498/498 [==============================] - 1s 3ms/step - loss: 0.6701 - accuracy: 0.6091\n",
            "Epoch 98/100\n",
            "498/498 [==============================] - 1s 3ms/step - loss: 0.6711 - accuracy: 0.6065\n",
            "Epoch 99/100\n",
            "498/498 [==============================] - 1s 3ms/step - loss: 0.6736 - accuracy: 0.6009\n",
            "Epoch 100/100\n",
            "498/498 [==============================] - 1s 3ms/step - loss: 0.6670 - accuracy: 0.6156\n"
          ],
          "name": "stdout"
        },
        {
          "output_type": "execute_result",
          "data": {
            "text/plain": [
              "<tensorflow.python.keras.callbacks.History at 0x7fc50a270850>"
            ]
          },
          "metadata": {
            "tags": []
          },
          "execution_count": 790
        }
      ]
    },
    {
      "cell_type": "code",
      "metadata": {
        "id": "8kR0h-fBgCBb",
        "colab": {
          "base_uri": "https://localhost:8080/"
        },
        "outputId": "a72f3a5e-b79c-40e7-88f5-7e0732a1ad97"
      },
      "source": [
        "loss_accuracy=model.evaluate(x_test,y_test,verbose=0)\n",
        "print('Test_loss:',loss_accuracy[0])\n",
        "print('Test Accuracy:',loss_accuracy[1])"
      ],
      "execution_count": null,
      "outputs": [
        {
          "output_type": "stream",
          "text": [
            "Test_loss: 0.6754930019378662\n",
            "Test Accuracy: 0.5967347025871277\n"
          ],
          "name": "stdout"
        }
      ]
    },
    {
      "cell_type": "markdown",
      "metadata": {
        "id": "mFBjolwQ2DXl"
      },
      "source": [
        "**HYPER PARAMETER TUNINING**"
      ]
    },
    {
      "cell_type": "markdown",
      "metadata": {
        "id": "0Ts6MK0QL6p8"
      },
      "source": [
        "##**XGB**"
      ]
    },
    {
      "cell_type": "code",
      "metadata": {
        "colab": {
          "base_uri": "https://localhost:8080/"
        },
        "id": "Sc49yPhY2Gj4",
        "outputId": "69cc40ed-af30-4b40-bb44-c68f41e466a0"
      },
      "source": [
        "from xgboost import XGBClassifier\n",
        "model_xgb=XGBClassifier(base_score=0.5, booster='gbtree', colsample_bylevel=0.5,\n",
        "              colsample_bynode=1, colsample_bytree=0.9, gamma=0,\n",
        "              learning_rate=0.16, max_delta_step=0, max_depth=3,\n",
        "              min_child_weight=1, missing=None, n_estimators=100, n_jobs=-1,\n",
        "              nthread=None, objective='binary:logistic', random_state=100,\n",
        "              reg_alpha=0, reg_lambda=1.5, scale_pos_weight=1, seed=None,\n",
        "              silent=None, subsample=1, verbosity=1)\n",
        "model_xgb.fit(x_train,y_train)\n",
        "xgb_predict=model_xgb.predict(x_test)\n",
        "from sklearn.metrics import accuracy_score ,recall_score, precision_score,f1_score,confusion_matrix,classification_report\n",
        "print('accuracy score :\\n',accuracy_score(y_true=y_test,y_pred=xgb_predict))\n",
        "print(classification_report(y_test,xgb_predict))"
      ],
      "execution_count": null,
      "outputs": [
        {
          "output_type": "stream",
          "text": [
            "accuracy score :\n",
            " 0.7261224489795919\n",
            "              precision    recall  f1-score   support\n",
            "\n",
            "           0       0.74      0.85      0.79      1462\n",
            "           1       0.70      0.55      0.62       981\n",
            "           2       0.00      0.00      0.00         7\n",
            "\n",
            "    accuracy                           0.73      2450\n",
            "   macro avg       0.48      0.47      0.47      2450\n",
            "weighted avg       0.72      0.73      0.72      2450\n",
            "\n"
          ],
          "name": "stdout"
        }
      ]
    },
    {
      "cell_type": "markdown",
      "metadata": {
        "id": "PHS1MoBWL9Hu"
      },
      "source": [
        "##**SVM**"
      ]
    },
    {
      "cell_type": "code",
      "metadata": {
        "colab": {
          "base_uri": "https://localhost:8080/"
        },
        "id": "ErOtweo53wxP",
        "outputId": "cffaa979-7e40-4a1f-d3c0-7967bc8e2a41"
      },
      "source": [
        "from sklearn import svm\n",
        "model_svm = svm.SVC(C=1, kernel='rbf', degree=3, gamma='scale', coef0=0.0, shrinking=True, probability=False, tol=0.001, cache_size=200, class_weight=None, verbose=False, max_iter=-1, decision_function_shape='ovr', break_ties=False, random_state=40)\n",
        "model_svm.fit(x_train, y_train)\n",
        "svm_predict=model_svm.predict(x_test)\n",
        "from sklearn.metrics import accuracy_score ,recall_score, precision_score,f1_score,confusion_matrix,classification_report \n",
        "print('accuracy score :\\n',accuracy_score(y_true=y_test,y_pred=svm_predict))\n",
        "print(classification_report(y_test,svm_predict))"
      ],
      "execution_count": null,
      "outputs": [
        {
          "output_type": "stream",
          "text": [
            "accuracy score :\n",
            " 0.6853061224489796\n",
            "              precision    recall  f1-score   support\n",
            "\n",
            "           0       0.69      0.87      0.77      1462\n",
            "           1       0.67      0.42      0.52       981\n",
            "           2       0.00      0.00      0.00         7\n",
            "\n",
            "    accuracy                           0.69      2450\n",
            "   macro avg       0.45      0.43      0.43      2450\n",
            "weighted avg       0.68      0.69      0.67      2450\n",
            "\n"
          ],
          "name": "stdout"
        }
      ]
    },
    {
      "cell_type": "markdown",
      "metadata": {
        "id": "11MEJQUGL_SZ"
      },
      "source": [
        "##**Random Forest**"
      ]
    },
    {
      "cell_type": "code",
      "metadata": {
        "colab": {
          "base_uri": "https://localhost:8080/"
        },
        "id": "LNtZo-Ry4Ix1",
        "outputId": "ec422c7f-37e9-45f4-94e8-9e0548fc8225"
      },
      "source": [
        "from sklearn.ensemble import RandomForestClassifier\n",
        "model_RF=RandomForestClassifier(bootstrap=True, ccp_alpha=0.0, class_weight=None,\n",
        "                       criterion='gini', max_depth=10, max_features='auto',\n",
        "                       max_leaf_nodes=None, max_samples=None,\n",
        "                       min_impurity_decrease=0.0, min_impurity_split=0,\n",
        "                       min_samples_leaf=3, min_samples_split=2,\n",
        "                       min_weight_fraction_leaf=0.0, n_estimators=800,\n",
        "                       n_jobs=-1, oob_score=False, random_state=10,\n",
        "                       verbose=0, warm_start=False)\n",
        "model_RF.fit(x_train,y_train)\n",
        "RF_predict=model_RF.predict(x_test)\n",
        "\n",
        "from sklearn.metrics import accuracy_score ,recall_score, precision_score,f1_score,confusion_matrix,classification_report \n",
        "print('accuracy score :\\n',accuracy_score(y_true=y_test,y_pred=RF_predict))\n",
        "print(classification_report(y_test,RF_predict))"
      ],
      "execution_count": null,
      "outputs": [
        {
          "output_type": "stream",
          "text": [
            "accuracy score :\n",
            " 0.7126530612244898\n",
            "              precision    recall  f1-score   support\n",
            "\n",
            "           0       0.73      0.84      0.78      1462\n",
            "           1       0.68      0.53      0.60       981\n",
            "           2       0.00      0.00      0.00         7\n",
            "\n",
            "    accuracy                           0.71      2450\n",
            "   macro avg       0.47      0.46      0.46      2450\n",
            "weighted avg       0.71      0.71      0.70      2450\n",
            "\n"
          ],
          "name": "stdout"
        }
      ]
    },
    {
      "cell_type": "markdown",
      "metadata": {
        "id": "oTg1p0kXMCt-"
      },
      "source": [
        "#**LGB**"
      ]
    },
    {
      "cell_type": "code",
      "metadata": {
        "colab": {
          "base_uri": "https://localhost:8080/"
        },
        "id": "ktFCGdMo4gFc",
        "outputId": "1e9f3786-2ff2-4429-9414-33b135e4abb5"
      },
      "source": [
        "import lightgbm as lgb\n",
        "model_lgb=lgb.LGBMClassifier( max_depth=10,learning_rate=0.09,\n",
        "               min_child_samples=20, min_child_weight=0.001, min_split_gain=0.0,\n",
        "               n_estimators=100, n_jobs=-1, num_leaves=31, objective=None,\n",
        "               random_state=40, reg_alpha=0.0, reg_lambda=0.0, silent=True,\n",
        "               subsample=1.0, subsample_for_bin=200000, subsample_freq=0)\n",
        "model_lgb.fit(x_train,y_train)\n",
        "lgb_predict=model_lgb.predict(x_test)\n",
        "from sklearn.metrics import accuracy_score ,recall_score, precision_score,f1_score,confusion_matrix,classification_report\n",
        "print('accuracy score :\\n',accuracy_score(y_true=y_test,y_pred=lgb_predict))\n",
        "print(classification_report(y_test,lgb_predict))"
      ],
      "execution_count": null,
      "outputs": [
        {
          "output_type": "stream",
          "text": [
            "accuracy score :\n",
            " 0.7212244897959184\n",
            "              precision    recall  f1-score   support\n",
            "\n",
            "           0       0.74      0.83      0.78      1462\n",
            "           1       0.69      0.56      0.62       981\n",
            "           2       0.00      0.00      0.00         7\n",
            "\n",
            "    accuracy                           0.72      2450\n",
            "   macro avg       0.48      0.46      0.47      2450\n",
            "weighted avg       0.72      0.72      0.71      2450\n",
            "\n"
          ],
          "name": "stdout"
        }
      ]
    },
    {
      "cell_type": "markdown",
      "metadata": {
        "id": "6mKSoT4QMFQM"
      },
      "source": [
        "##**Decision Tree**"
      ]
    },
    {
      "cell_type": "code",
      "metadata": {
        "colab": {
          "base_uri": "https://localhost:8080/"
        },
        "id": "RqTA-A7j50zM",
        "outputId": "c80175ec-a3a7-46d8-e7f7-ec8be11de0b0"
      },
      "source": [
        "from sklearn.tree import DecisionTreeClassifier\n",
        "model_DT= DecisionTreeClassifier(ccp_alpha=0.0, class_weight=None, criterion='gini',\n",
        "                       max_depth=10, max_features=5, max_leaf_nodes=None,\n",
        "                       min_impurity_decrease=0.0, min_impurity_split=None,\n",
        "                       min_samples_leaf=1, min_samples_split=3,\n",
        "                       min_weight_fraction_leaf=0.0, presort='deprecated',\n",
        "                       random_state=40, splitter='best')\n",
        "model_DT.fit(x_train,y_train)\n",
        "DT_predict=model_DT.predict(x_test)\n",
        "from sklearn.metrics import accuracy_score ,recall_score, precision_score,f1_score,confusion_matrix,classification_report\n",
        "print('accuracy score :\\n',accuracy_score(y_true=y_test,y_pred=DT_predict))\n",
        "print(classification_report(y_test,DT_predict))"
      ],
      "execution_count": null,
      "outputs": [
        {
          "output_type": "stream",
          "text": [
            "accuracy score :\n",
            " 0.686530612244898\n",
            "              precision    recall  f1-score   support\n",
            "\n",
            "           0       0.72      0.79      0.75      1462\n",
            "           1       0.63      0.54      0.58       981\n",
            "           2       0.50      0.29      0.36         7\n",
            "\n",
            "    accuracy                           0.69      2450\n",
            "   macro avg       0.62      0.54      0.56      2450\n",
            "weighted avg       0.68      0.69      0.68      2450\n",
            "\n"
          ],
          "name": "stdout"
        }
      ]
    },
    {
      "cell_type": "markdown",
      "metadata": {
        "id": "Xz-h9t6oMI6F"
      },
      "source": [
        "##**Logistic**"
      ]
    },
    {
      "cell_type": "code",
      "metadata": {
        "colab": {
          "base_uri": "https://localhost:8080/"
        },
        "id": "E-SChVp47l5Z",
        "outputId": "a6e1c14a-3336-4453-8424-cbf190fe41bd"
      },
      "source": [
        "from sklearn.linear_model import LogisticRegression\n",
        "model_log=LogisticRegression(C=1.0, class_weight=None, dual=False, fit_intercept=True,\n",
        "                   intercept_scaling=1, l1_ratio=None, max_iter=200,\n",
        "                   multi_class='auto', n_jobs=None, penalty='l2',\n",
        "                   random_state=10, solver='lbfgs', tol=0.0001, verbose=0,\n",
        "                   warm_start=False)\n",
        "model_log.fit(x_train,y_train)\n",
        "log_predict=model_log.predict(x_test)\n",
        "from sklearn.metrics import accuracy_score ,recall_score, precision_score,f1_score,confusion_matrix,classification_report\n",
        "print('accuracy score :\\n',accuracy_score(y_true=y_test,y_pred=log_predict))\n",
        "print(classification_report(y_test,log_predict))"
      ],
      "execution_count": null,
      "outputs": [
        {
          "output_type": "stream",
          "text": [
            "accuracy score :\n",
            " 0.673469387755102\n",
            "              precision    recall  f1-score   support\n",
            "\n",
            "           0       0.70      0.79      0.74      1462\n",
            "           1       0.61      0.50      0.55       981\n",
            "           2       0.00      0.00      0.00         7\n",
            "\n",
            "    accuracy                           0.67      2450\n",
            "   macro avg       0.44      0.43      0.43      2450\n",
            "weighted avg       0.66      0.67      0.67      2450\n",
            "\n"
          ],
          "name": "stdout"
        }
      ]
    },
    {
      "cell_type": "markdown",
      "metadata": {
        "id": "3pjrtEmvMQNf"
      },
      "source": [
        "##**Gradient Boosting**"
      ]
    },
    {
      "cell_type": "code",
      "metadata": {
        "colab": {
          "base_uri": "https://localhost:8080/"
        },
        "id": "qiIjQrIr8AKS",
        "outputId": "1ea0f67e-86e5-4c76-c40e-fbd42e861b9a"
      },
      "source": [
        "from sklearn.ensemble import  GradientBoostingClassifier\n",
        "model_gb=GradientBoostingClassifier(ccp_alpha=0.0, criterion='friedman_mse', init=None,\n",
        "                           learning_rate=0.1, loss='deviance', max_depth=3,\n",
        "                           max_features=2, max_leaf_nodes=None,\n",
        "                           min_impurity_decrease=0.0, min_impurity_split=None,\n",
        "                           min_samples_leaf=1, min_samples_split=2,\n",
        "                           min_weight_fraction_leaf=0.0, n_estimators=100,\n",
        "                           n_iter_no_change=None, presort='deprecated',\n",
        "                           random_state=None, subsample=1.0, tol=0.0001,\n",
        "                           validation_fraction=0.1, verbose=0,\n",
        "                           warm_start=False)\n",
        "model_gb.fit(x_train,y_train)\n",
        "gb_predict=model_gb.predict(x_test)\n",
        "from sklearn.metrics import accuracy_score ,recall_score, precision_score,f1_score,confusion_matrix,classification_report\n",
        "print('accuracy score :\\n',accuracy_score(y_true=y_test,y_pred=gb_predict))\n",
        "print(classification_report(y_test,gb_predict))"
      ],
      "execution_count": null,
      "outputs": [
        {
          "output_type": "stream",
          "text": [
            "accuracy score :\n",
            " 0.7253061224489796\n",
            "              precision    recall  f1-score   support\n",
            "\n",
            "           0       0.73      0.85      0.79      1462\n",
            "           1       0.71      0.54      0.61       981\n",
            "           2       0.00      0.00      0.00         7\n",
            "\n",
            "    accuracy                           0.73      2450\n",
            "   macro avg       0.48      0.46      0.47      2450\n",
            "weighted avg       0.72      0.73      0.72      2450\n",
            "\n"
          ],
          "name": "stdout"
        }
      ]
    },
    {
      "cell_type": "code",
      "metadata": {
        "id": "RmTdRVSJ8mr_",
        "colab": {
          "base_uri": "https://localhost:8080/",
          "height": 402
        },
        "outputId": "2901b2be-a7c4-443b-cccd-2b605eb655af"
      },
      "source": [
        "import pandas as pd\n",
        "Scores={'Model':['XGB','SVM','SGD','Random Forest','LGB','Decision tree','Logistic' ,'KNN' , 'Adaboost','Gradient boost','Naive Bayes','ANN']\n",
        ",'Accuracy_before':[0.717,0.685,0.668,0.674,0.707,0.675,0.673,0.665,0.686,0.72,0.67,0.675],'Accuracy_after_tuning':[0.726,0.685,0.668,0.712,0.72,0.686,0.673,0.665,0.686,0.725,0.67,0.675]}\n",
        "pd.DataFrame(Scores)"
      ],
      "execution_count": null,
      "outputs": [
        {
          "output_type": "execute_result",
          "data": {
            "text/html": [
              "<div>\n",
              "<style scoped>\n",
              "    .dataframe tbody tr th:only-of-type {\n",
              "        vertical-align: middle;\n",
              "    }\n",
              "\n",
              "    .dataframe tbody tr th {\n",
              "        vertical-align: top;\n",
              "    }\n",
              "\n",
              "    .dataframe thead th {\n",
              "        text-align: right;\n",
              "    }\n",
              "</style>\n",
              "<table border=\"1\" class=\"dataframe\">\n",
              "  <thead>\n",
              "    <tr style=\"text-align: right;\">\n",
              "      <th></th>\n",
              "      <th>Model</th>\n",
              "      <th>Accuracy_before</th>\n",
              "      <th>Accuracy_after_tuning</th>\n",
              "    </tr>\n",
              "  </thead>\n",
              "  <tbody>\n",
              "    <tr>\n",
              "      <th>0</th>\n",
              "      <td>XGB</td>\n",
              "      <td>0.717</td>\n",
              "      <td>0.726</td>\n",
              "    </tr>\n",
              "    <tr>\n",
              "      <th>1</th>\n",
              "      <td>SVM</td>\n",
              "      <td>0.685</td>\n",
              "      <td>0.685</td>\n",
              "    </tr>\n",
              "    <tr>\n",
              "      <th>2</th>\n",
              "      <td>SGD</td>\n",
              "      <td>0.668</td>\n",
              "      <td>0.668</td>\n",
              "    </tr>\n",
              "    <tr>\n",
              "      <th>3</th>\n",
              "      <td>Random Forest</td>\n",
              "      <td>0.674</td>\n",
              "      <td>0.712</td>\n",
              "    </tr>\n",
              "    <tr>\n",
              "      <th>4</th>\n",
              "      <td>LGB</td>\n",
              "      <td>0.707</td>\n",
              "      <td>0.720</td>\n",
              "    </tr>\n",
              "    <tr>\n",
              "      <th>5</th>\n",
              "      <td>Decision tree</td>\n",
              "      <td>0.675</td>\n",
              "      <td>0.686</td>\n",
              "    </tr>\n",
              "    <tr>\n",
              "      <th>6</th>\n",
              "      <td>Logistic</td>\n",
              "      <td>0.673</td>\n",
              "      <td>0.673</td>\n",
              "    </tr>\n",
              "    <tr>\n",
              "      <th>7</th>\n",
              "      <td>KNN</td>\n",
              "      <td>0.665</td>\n",
              "      <td>0.665</td>\n",
              "    </tr>\n",
              "    <tr>\n",
              "      <th>8</th>\n",
              "      <td>Adaboost</td>\n",
              "      <td>0.686</td>\n",
              "      <td>0.686</td>\n",
              "    </tr>\n",
              "    <tr>\n",
              "      <th>9</th>\n",
              "      <td>Gradient boost</td>\n",
              "      <td>0.720</td>\n",
              "      <td>0.725</td>\n",
              "    </tr>\n",
              "    <tr>\n",
              "      <th>10</th>\n",
              "      <td>Naive Bayes</td>\n",
              "      <td>0.670</td>\n",
              "      <td>0.670</td>\n",
              "    </tr>\n",
              "    <tr>\n",
              "      <th>11</th>\n",
              "      <td>ANN</td>\n",
              "      <td>0.675</td>\n",
              "      <td>0.675</td>\n",
              "    </tr>\n",
              "  </tbody>\n",
              "</table>\n",
              "</div>"
            ],
            "text/plain": [
              "             Model  Accuracy_before  Accuracy_after_tuning\n",
              "0              XGB            0.717                  0.726\n",
              "1              SVM            0.685                  0.685\n",
              "2              SGD            0.668                  0.668\n",
              "3    Random Forest            0.674                  0.712\n",
              "4              LGB            0.707                  0.720\n",
              "5    Decision tree            0.675                  0.686\n",
              "6         Logistic            0.673                  0.673\n",
              "7              KNN            0.665                  0.665\n",
              "8         Adaboost            0.686                  0.686\n",
              "9   Gradient boost            0.720                  0.725\n",
              "10     Naive Bayes            0.670                  0.670\n",
              "11             ANN            0.675                  0.675"
            ]
          },
          "metadata": {
            "tags": []
          },
          "execution_count": 71
        }
      ]
    }
  ]
}